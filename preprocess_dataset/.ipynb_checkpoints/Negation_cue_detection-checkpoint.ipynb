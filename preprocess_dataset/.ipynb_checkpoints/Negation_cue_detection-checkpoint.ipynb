{
 "cells": [
  {
   "cell_type": "code",
   "execution_count": 21,
   "id": "19a26cdf",
   "metadata": {},
   "outputs": [],
   "source": [
    "from Task1_Negation_cue_detection import *\n",
    "import pandas as pd\n",
    "import numpy as np\n",
    "import matplotlib.pyplot as plt"
   ]
  },
  {
   "cell_type": "markdown",
   "id": "503cda6f",
   "metadata": {},
   "source": [
    "### Amazon Music Dataset"
   ]
  },
  {
   "cell_type": "code",
   "execution_count": 3,
   "id": "0628213d",
   "metadata": {},
   "outputs": [],
   "source": [
    "df2 = pd.read_csv(\"datasets/preparation_of_datasets/Amazon_Music/Preprocessed_Amazon_Music_dataset.csv\")"
   ]
  },
  {
   "cell_type": "code",
   "execution_count": 7,
   "id": "b0f5ecd7",
   "metadata": {},
   "outputs": [],
   "source": [
    "df2[\"negation_list\"] = df2[\"reviews\"].apply(lambda x:identify_all_negs(x)[3])\n",
    "# df2['negation_list'] = list(map(identify_all_negs_list, df2['reviews']))  # for this function should return only one value"
   ]
  },
  {
   "cell_type": "code",
   "execution_count": 8,
   "id": "6a1b897f",
   "metadata": {},
   "outputs": [
    {
     "data": {
      "text/html": [
       "<div>\n",
       "<style scoped>\n",
       "    .dataframe tbody tr th:only-of-type {\n",
       "        vertical-align: middle;\n",
       "    }\n",
       "\n",
       "    .dataframe tbody tr th {\n",
       "        vertical-align: top;\n",
       "    }\n",
       "\n",
       "    .dataframe thead th {\n",
       "        text-align: right;\n",
       "    }\n",
       "</style>\n",
       "<table border=\"1\" class=\"dataframe\">\n",
       "  <thead>\n",
       "    <tr style=\"text-align: right;\">\n",
       "      <th></th>\n",
       "      <th>user</th>\n",
       "      <th>item</th>\n",
       "      <th>label</th>\n",
       "      <th>reviews</th>\n",
       "      <th>sentiment_score</th>\n",
       "      <th>negation_list</th>\n",
       "    </tr>\n",
       "  </thead>\n",
       "  <tbody>\n",
       "    <tr>\n",
       "      <th>0</th>\n",
       "      <td>1</td>\n",
       "      <td>1</td>\n",
       "      <td>5</td>\n",
       "      <td>It's hard to believe \"Memory of Trees\" came ou...</td>\n",
       "      <td>0.186515</td>\n",
       "      <td>[not]</td>\n",
       "    </tr>\n",
       "    <tr>\n",
       "      <th>1</th>\n",
       "      <td>2</td>\n",
       "      <td>1</td>\n",
       "      <td>5</td>\n",
       "      <td>A clasically-styled and introverted album, Mem...</td>\n",
       "      <td>0.251479</td>\n",
       "      <td>[not, never]</td>\n",
       "    </tr>\n",
       "    <tr>\n",
       "      <th>2</th>\n",
       "      <td>3</td>\n",
       "      <td>1</td>\n",
       "      <td>5</td>\n",
       "      <td>I never thought Enya would reach the sublime h...</td>\n",
       "      <td>0.343074</td>\n",
       "      <td>[not, never]</td>\n",
       "    </tr>\n",
       "    <tr>\n",
       "      <th>3</th>\n",
       "      <td>4</td>\n",
       "      <td>1</td>\n",
       "      <td>5</td>\n",
       "      <td>This is the third review of an irish album I w...</td>\n",
       "      <td>0.463788</td>\n",
       "      <td>[not]</td>\n",
       "    </tr>\n",
       "    <tr>\n",
       "      <th>4</th>\n",
       "      <td>5</td>\n",
       "      <td>1</td>\n",
       "      <td>4</td>\n",
       "      <td>Enya, despite being a successful recording art...</td>\n",
       "      <td>0.346841</td>\n",
       "      <td>[not, not, not, not, not, not, not, never, wor...</td>\n",
       "    </tr>\n",
       "    <tr>\n",
       "      <th>...</th>\n",
       "      <td>...</td>\n",
       "      <td>...</td>\n",
       "      <td>...</td>\n",
       "      <td>...</td>\n",
       "      <td>...</td>\n",
       "      <td>...</td>\n",
       "    </tr>\n",
       "    <tr>\n",
       "      <th>64700</th>\n",
       "      <td>5469</td>\n",
       "      <td>3568</td>\n",
       "      <td>4</td>\n",
       "      <td>I like the reggae sound a lot in this song. I ...</td>\n",
       "      <td>0.500000</td>\n",
       "      <td>[]</td>\n",
       "    </tr>\n",
       "    <tr>\n",
       "      <th>64701</th>\n",
       "      <td>5303</td>\n",
       "      <td>3568</td>\n",
       "      <td>5</td>\n",
       "      <td>I first heard this on Sirius and had to have i...</td>\n",
       "      <td>0.312500</td>\n",
       "      <td>[no, not]</td>\n",
       "    </tr>\n",
       "    <tr>\n",
       "      <th>64702</th>\n",
       "      <td>5313</td>\n",
       "      <td>3568</td>\n",
       "      <td>5</td>\n",
       "      <td>I absolutely love this song, it downloaded fin...</td>\n",
       "      <td>0.458333</td>\n",
       "      <td>[]</td>\n",
       "    </tr>\n",
       "    <tr>\n",
       "      <th>64703</th>\n",
       "      <td>1893</td>\n",
       "      <td>3568</td>\n",
       "      <td>3</td>\n",
       "      <td>Reggae, island beats are not really my cup of ...</td>\n",
       "      <td>0.110741</td>\n",
       "      <td>[not, not, not]</td>\n",
       "    </tr>\n",
       "    <tr>\n",
       "      <th>64704</th>\n",
       "      <td>185</td>\n",
       "      <td>3568</td>\n",
       "      <td>1</td>\n",
       "      <td>Magic! is a Canadian band that incorporates re...</td>\n",
       "      <td>0.113462</td>\n",
       "      <td>[faceless]</td>\n",
       "    </tr>\n",
       "  </tbody>\n",
       "</table>\n",
       "<p>64705 rows × 6 columns</p>\n",
       "</div>"
      ],
      "text/plain": [
       "       user  item  label                                            reviews  \\\n",
       "0         1     1      5  It's hard to believe \"Memory of Trees\" came ou...   \n",
       "1         2     1      5  A clasically-styled and introverted album, Mem...   \n",
       "2         3     1      5  I never thought Enya would reach the sublime h...   \n",
       "3         4     1      5  This is the third review of an irish album I w...   \n",
       "4         5     1      4  Enya, despite being a successful recording art...   \n",
       "...     ...   ...    ...                                                ...   \n",
       "64700  5469  3568      4  I like the reggae sound a lot in this song. I ...   \n",
       "64701  5303  3568      5  I first heard this on Sirius and had to have i...   \n",
       "64702  5313  3568      5  I absolutely love this song, it downloaded fin...   \n",
       "64703  1893  3568      3  Reggae, island beats are not really my cup of ...   \n",
       "64704   185  3568      1  Magic! is a Canadian band that incorporates re...   \n",
       "\n",
       "       sentiment_score                                      negation_list  \n",
       "0             0.186515                                              [not]  \n",
       "1             0.251479                                       [not, never]  \n",
       "2             0.343074                                       [not, never]  \n",
       "3             0.463788                                              [not]  \n",
       "4             0.346841  [not, not, not, not, not, not, not, never, wor...  \n",
       "...                ...                                                ...  \n",
       "64700         0.500000                                                 []  \n",
       "64701         0.312500                                          [no, not]  \n",
       "64702         0.458333                                                 []  \n",
       "64703         0.110741                                    [not, not, not]  \n",
       "64704         0.113462                                         [faceless]  \n",
       "\n",
       "[64705 rows x 6 columns]"
      ]
     },
     "execution_count": 8,
     "metadata": {},
     "output_type": "execute_result"
    }
   ],
   "source": [
    "df2"
   ]
  },
  {
   "cell_type": "code",
   "execution_count": 16,
   "id": "0b0a2d6a",
   "metadata": {},
   "outputs": [],
   "source": [
    "df2[\"no_of_negations\"] = df2[\"negation_list\"].apply(lambda x:len(x))"
   ]
  },
  {
   "cell_type": "code",
   "execution_count": 17,
   "id": "3b729c11",
   "metadata": {},
   "outputs": [
    {
     "data": {
      "text/html": [
       "<div>\n",
       "<style scoped>\n",
       "    .dataframe tbody tr th:only-of-type {\n",
       "        vertical-align: middle;\n",
       "    }\n",
       "\n",
       "    .dataframe tbody tr th {\n",
       "        vertical-align: top;\n",
       "    }\n",
       "\n",
       "    .dataframe thead th {\n",
       "        text-align: right;\n",
       "    }\n",
       "</style>\n",
       "<table border=\"1\" class=\"dataframe\">\n",
       "  <thead>\n",
       "    <tr style=\"text-align: right;\">\n",
       "      <th></th>\n",
       "      <th>user</th>\n",
       "      <th>item</th>\n",
       "      <th>label</th>\n",
       "      <th>reviews</th>\n",
       "      <th>sentiment_score</th>\n",
       "      <th>negation_list</th>\n",
       "      <th>no_of_negations</th>\n",
       "    </tr>\n",
       "  </thead>\n",
       "  <tbody>\n",
       "    <tr>\n",
       "      <th>0</th>\n",
       "      <td>1</td>\n",
       "      <td>1</td>\n",
       "      <td>5</td>\n",
       "      <td>It's hard to believe \"Memory of Trees\" came ou...</td>\n",
       "      <td>0.186515</td>\n",
       "      <td>[not]</td>\n",
       "      <td>1</td>\n",
       "    </tr>\n",
       "    <tr>\n",
       "      <th>1</th>\n",
       "      <td>2</td>\n",
       "      <td>1</td>\n",
       "      <td>5</td>\n",
       "      <td>A clasically-styled and introverted album, Mem...</td>\n",
       "      <td>0.251479</td>\n",
       "      <td>[not, never]</td>\n",
       "      <td>2</td>\n",
       "    </tr>\n",
       "    <tr>\n",
       "      <th>2</th>\n",
       "      <td>3</td>\n",
       "      <td>1</td>\n",
       "      <td>5</td>\n",
       "      <td>I never thought Enya would reach the sublime h...</td>\n",
       "      <td>0.343074</td>\n",
       "      <td>[not, never]</td>\n",
       "      <td>2</td>\n",
       "    </tr>\n",
       "    <tr>\n",
       "      <th>3</th>\n",
       "      <td>4</td>\n",
       "      <td>1</td>\n",
       "      <td>5</td>\n",
       "      <td>This is the third review of an irish album I w...</td>\n",
       "      <td>0.463788</td>\n",
       "      <td>[not]</td>\n",
       "      <td>1</td>\n",
       "    </tr>\n",
       "    <tr>\n",
       "      <th>4</th>\n",
       "      <td>5</td>\n",
       "      <td>1</td>\n",
       "      <td>4</td>\n",
       "      <td>Enya, despite being a successful recording art...</td>\n",
       "      <td>0.346841</td>\n",
       "      <td>[not, not, not, not, not, not, not, never, wor...</td>\n",
       "      <td>10</td>\n",
       "    </tr>\n",
       "    <tr>\n",
       "      <th>...</th>\n",
       "      <td>...</td>\n",
       "      <td>...</td>\n",
       "      <td>...</td>\n",
       "      <td>...</td>\n",
       "      <td>...</td>\n",
       "      <td>...</td>\n",
       "      <td>...</td>\n",
       "    </tr>\n",
       "    <tr>\n",
       "      <th>64700</th>\n",
       "      <td>5469</td>\n",
       "      <td>3568</td>\n",
       "      <td>4</td>\n",
       "      <td>I like the reggae sound a lot in this song. I ...</td>\n",
       "      <td>0.500000</td>\n",
       "      <td>[]</td>\n",
       "      <td>0</td>\n",
       "    </tr>\n",
       "    <tr>\n",
       "      <th>64701</th>\n",
       "      <td>5303</td>\n",
       "      <td>3568</td>\n",
       "      <td>5</td>\n",
       "      <td>I first heard this on Sirius and had to have i...</td>\n",
       "      <td>0.312500</td>\n",
       "      <td>[no, not]</td>\n",
       "      <td>2</td>\n",
       "    </tr>\n",
       "    <tr>\n",
       "      <th>64702</th>\n",
       "      <td>5313</td>\n",
       "      <td>3568</td>\n",
       "      <td>5</td>\n",
       "      <td>I absolutely love this song, it downloaded fin...</td>\n",
       "      <td>0.458333</td>\n",
       "      <td>[]</td>\n",
       "      <td>0</td>\n",
       "    </tr>\n",
       "    <tr>\n",
       "      <th>64703</th>\n",
       "      <td>1893</td>\n",
       "      <td>3568</td>\n",
       "      <td>3</td>\n",
       "      <td>Reggae, island beats are not really my cup of ...</td>\n",
       "      <td>0.110741</td>\n",
       "      <td>[not, not, not]</td>\n",
       "      <td>3</td>\n",
       "    </tr>\n",
       "    <tr>\n",
       "      <th>64704</th>\n",
       "      <td>185</td>\n",
       "      <td>3568</td>\n",
       "      <td>1</td>\n",
       "      <td>Magic! is a Canadian band that incorporates re...</td>\n",
       "      <td>0.113462</td>\n",
       "      <td>[faceless]</td>\n",
       "      <td>1</td>\n",
       "    </tr>\n",
       "  </tbody>\n",
       "</table>\n",
       "<p>64705 rows × 7 columns</p>\n",
       "</div>"
      ],
      "text/plain": [
       "       user  item  label                                            reviews  \\\n",
       "0         1     1      5  It's hard to believe \"Memory of Trees\" came ou...   \n",
       "1         2     1      5  A clasically-styled and introverted album, Mem...   \n",
       "2         3     1      5  I never thought Enya would reach the sublime h...   \n",
       "3         4     1      5  This is the third review of an irish album I w...   \n",
       "4         5     1      4  Enya, despite being a successful recording art...   \n",
       "...     ...   ...    ...                                                ...   \n",
       "64700  5469  3568      4  I like the reggae sound a lot in this song. I ...   \n",
       "64701  5303  3568      5  I first heard this on Sirius and had to have i...   \n",
       "64702  5313  3568      5  I absolutely love this song, it downloaded fin...   \n",
       "64703  1893  3568      3  Reggae, island beats are not really my cup of ...   \n",
       "64704   185  3568      1  Magic! is a Canadian band that incorporates re...   \n",
       "\n",
       "       sentiment_score                                      negation_list  \\\n",
       "0             0.186515                                              [not]   \n",
       "1             0.251479                                       [not, never]   \n",
       "2             0.343074                                       [not, never]   \n",
       "3             0.463788                                              [not]   \n",
       "4             0.346841  [not, not, not, not, not, not, not, never, wor...   \n",
       "...                ...                                                ...   \n",
       "64700         0.500000                                                 []   \n",
       "64701         0.312500                                          [no, not]   \n",
       "64702         0.458333                                                 []   \n",
       "64703         0.110741                                    [not, not, not]   \n",
       "64704         0.113462                                         [faceless]   \n",
       "\n",
       "       no_of_negations  \n",
       "0                    1  \n",
       "1                    2  \n",
       "2                    2  \n",
       "3                    1  \n",
       "4                   10  \n",
       "...                ...  \n",
       "64700                0  \n",
       "64701                2  \n",
       "64702                0  \n",
       "64703                3  \n",
       "64704                1  \n",
       "\n",
       "[64705 rows x 7 columns]"
      ]
     },
     "execution_count": 17,
     "metadata": {},
     "output_type": "execute_result"
    }
   ],
   "source": [
    "df2"
   ]
  },
  {
   "cell_type": "code",
   "execution_count": 18,
   "id": "2f777046",
   "metadata": {},
   "outputs": [],
   "source": [
    "df2.to_csv(\"datasets/preparation_of_datasets/Amazon_Music/Preprocessed_Amazon_Music_dataset_I.csv\", index=False)"
   ]
  },
  {
   "cell_type": "code",
   "execution_count": 19,
   "id": "43d5a614",
   "metadata": {},
   "outputs": [],
   "source": [
    "df2_cpy = df2.copy()"
   ]
  },
  {
   "cell_type": "code",
   "execution_count": 86,
   "id": "44568a51",
   "metadata": {},
   "outputs": [
    {
     "data": {
      "image/png": "[encoded data removed]",
      "text/plain": [
       "<Figure size 432x288 with 1 Axes>"
      ]
     },
     "metadata": {
      "needs_background": "light"
     },
     "output_type": "display_data"
    }
   ],
   "source": [
    "p = df2.pivot(columns='label', values='label').plot.hist(legend=False)\n",
    "plt.xticks(df2['label'].unique())\n",
    "plt.xlabel('Ratings',fontsize=10)\n",
    "plt.ylabel('Number of reviews',fontsize=10)\n",
    "plt.title('Distribution of ratings of Amazon Digital Music dataset', fontsize=12, fontname=\"Times New Roman\")\n",
    "p.get_figure().savefig(\"pics/Amazon_Music_distribution_of_ratings.png\", dpi=500)"
   ]
  },
  {
   "cell_type": "code",
   "execution_count": 112,
   "id": "cbff19dd",
   "metadata": {},
   "outputs": [
    {
     "data": {
      "image/png": "[encoded data removed]",
      "text/plain": [
       "<Figure size 432x288 with 1 Axes>"
      ]
     },
     "metadata": {
      "needs_background": "light"
     },
     "output_type": "display_data"
    }
   ],
   "source": [
    "plt.hist([df2.label[(df2['label']>=1) & (df2['label']<=2)], \n",
    "          df2.label[df2['label']==3], \n",
    "          df2.label[(df2['label']>=4) & (df2['label']<=5)]],          \n",
    "         color=['Blue', 'Orange', 'Green'], \n",
    "         label=['Negative', 'Neutral','Positive'])\n",
    "\n",
    "plt.legend()\n",
    "plt.xticks(range(1,6))\n",
    "\n",
    "plt.xlabel('Ratings',fontsize=10)\n",
    "plt.ylabel('Number of reviews',fontsize=10, fontname='Times New Roman')\n",
    "plt.savefig(\"pics/Amazon_Music_neg_neu_pos_classes.png\", dpi=300)"
   ]
  },
  {
   "cell_type": "code",
   "execution_count": 34,
   "id": "a2d2f270",
   "metadata": {},
   "outputs": [],
   "source": [
    "df_negative = df2[(df2['label']>=1) & (df2['label']<=2)]\n",
    "df_neutral = df2[df2['label']==3]\n",
    "df_postive = df2[(df2['label']>=4) & (df2['label']<=5)]"
   ]
  },
  {
   "cell_type": "code",
   "execution_count": 60,
   "id": "145a8d12",
   "metadata": {},
   "outputs": [
    {
     "name": "stdout",
     "output_type": "stream",
     "text": [
      "Percentage of negation present in negative rated reviews:  85.65764523358041\n",
      "Percentage of negation present in neutral rated reviews:  87.08014142604597\n",
      "Percentage of negation present in postive rated reviews:  77.59613170619387\n"
     ]
    }
   ],
   "source": [
    "negs_in_neg_reviews = len(df_negative[df_negative[\"no_of_negations\"]>0])\n",
    "print(\"Percentage of negation present in negative rated reviews: \", (negs_in_neg_reviews/len(df_negative))*100)\n",
    "\n",
    "negs_in_neu_reviews = len(df_neutral[df_neutral[\"no_of_negations\"]>0])\n",
    "print(\"Percentage of negation present in neutral rated reviews: \", (negs_in_neu_reviews/len(df_neutral))*100)\n",
    "\n",
    "negs_in_pos_reviews = len(df_postive[df_postive[\"no_of_negations\"]>0])\n",
    "print(\"Percentage of negation present in postive rated reviews: \", (negs_in_pos_reviews/len(df_postive))*100)"
   ]
  },
  {
   "cell_type": "code",
   "execution_count": 91,
   "id": "f4349495",
   "metadata": {},
   "outputs": [
    {
     "data": {
      "image/png": "[encoded data removed]",
      "text/plain": [
       "<Figure size 432x288 with 1 Axes>"
      ]
     },
     "metadata": {
      "needs_background": "light"
     },
     "output_type": "display_data"
    }
   ],
   "source": [
    "import numpy as np\n",
    "import matplotlib.pyplot as plt\n",
    "plt.style.use('seaborn-deep')\n",
    "\n",
    "x = df2[df2['no_of_negations']>0].label\n",
    "y = df2['label']\n",
    "bins = np.arange(1, 6)\n",
    "\n",
    "plt.hist([x, y], bins)\n",
    "plt.legend(['No. of Reviews with negations', 'No. of reviews with & without negations'], loc='upper center')\n",
    "plt.xticks(bins)\n",
    "\n",
    "plt.xlabel('Ratings',fontsize=8)\n",
    "plt.ylabel('Number of reviews',fontsize=10, fontname='Times New Roman')\n",
    "plt.savefig(\"pics/reviews_with_without_negs.png\", dpi=300)"
   ]
  },
  {
   "cell_type": "markdown",
   "id": "9a6c09ab",
   "metadata": {},
   "source": [
    "### Hotel Dataset"
   ]
  },
  {
   "cell_type": "code",
   "execution_count": 92,
   "id": "cf9b389c",
   "metadata": {},
   "outputs": [],
   "source": [
    "df1 = pd.read_csv(\"datasets/preparation_of_datasets/Hotel/hotel_bert_emb_pca16_senti.csv\")"
   ]
  },
  {
   "cell_type": "code",
   "execution_count": 95,
   "id": "017322ec",
   "metadata": {},
   "outputs": [
    {
     "data": {
      "text/html": [
       "<div>\n",
       "<style scoped>\n",
       "    .dataframe tbody tr th:only-of-type {\n",
       "        vertical-align: middle;\n",
       "    }\n",
       "\n",
       "    .dataframe tbody tr th {\n",
       "        vertical-align: top;\n",
       "    }\n",
       "\n",
       "    .dataframe thead th {\n",
       "        text-align: right;\n",
       "    }\n",
       "</style>\n",
       "<table border=\"1\" class=\"dataframe\">\n",
       "  <thead>\n",
       "    <tr style=\"text-align: right;\">\n",
       "      <th></th>\n",
       "      <th>user</th>\n",
       "      <th>item</th>\n",
       "      <th>label</th>\n",
       "      <th>reviews</th>\n",
       "      <th>sentiment_score</th>\n",
       "      <th>review_emb1</th>\n",
       "      <th>review_emb2</th>\n",
       "      <th>review_emb3</th>\n",
       "      <th>review_emb4</th>\n",
       "      <th>review_emb5</th>\n",
       "      <th>...</th>\n",
       "      <th>review_emb7</th>\n",
       "      <th>review_emb8</th>\n",
       "      <th>review_emb9</th>\n",
       "      <th>review_emb10</th>\n",
       "      <th>review_emb11</th>\n",
       "      <th>review_emb12</th>\n",
       "      <th>review_emb13</th>\n",
       "      <th>review_emb14</th>\n",
       "      <th>review_emb15</th>\n",
       "      <th>review_emb16</th>\n",
       "    </tr>\n",
       "  </thead>\n",
       "  <tbody>\n",
       "    <tr>\n",
       "      <th>0</th>\n",
       "      <td>1</td>\n",
       "      <td>1</td>\n",
       "      <td>5.0</td>\n",
       "      <td>Our experience at Rancho Valencia was absolute...</td>\n",
       "      <td>0.589286</td>\n",
       "      <td>-0.615637</td>\n",
       "      <td>0.422410</td>\n",
       "      <td>0.742249</td>\n",
       "      <td>-0.067865</td>\n",
       "      <td>-1.098715</td>\n",
       "      <td>...</td>\n",
       "      <td>-0.709653</td>\n",
       "      <td>0.544356</td>\n",
       "      <td>-0.364870</td>\n",
       "      <td>0.554728</td>\n",
       "      <td>0.266643</td>\n",
       "      <td>0.372926</td>\n",
       "      <td>-0.458409</td>\n",
       "      <td>0.010433</td>\n",
       "      <td>-0.721811</td>\n",
       "      <td>-0.114598</td>\n",
       "    </tr>\n",
       "    <tr>\n",
       "      <th>1</th>\n",
       "      <td>2</td>\n",
       "      <td>1</td>\n",
       "      <td>5.0</td>\n",
       "      <td>Amazing place. Everyone was extremely warm and...</td>\n",
       "      <td>0.375000</td>\n",
       "      <td>-0.556816</td>\n",
       "      <td>-0.647894</td>\n",
       "      <td>-1.165584</td>\n",
       "      <td>-0.107210</td>\n",
       "      <td>0.040054</td>\n",
       "      <td>...</td>\n",
       "      <td>0.628132</td>\n",
       "      <td>0.233793</td>\n",
       "      <td>-0.407031</td>\n",
       "      <td>0.435241</td>\n",
       "      <td>-0.051325</td>\n",
       "      <td>0.199424</td>\n",
       "      <td>-0.269242</td>\n",
       "      <td>-0.562541</td>\n",
       "      <td>-0.418706</td>\n",
       "      <td>0.303380</td>\n",
       "    </tr>\n",
       "  </tbody>\n",
       "</table>\n",
       "<p>2 rows × 21 columns</p>\n",
       "</div>"
      ],
      "text/plain": [
       "   user  item  label                                            reviews  \\\n",
       "0     1     1    5.0  Our experience at Rancho Valencia was absolute...   \n",
       "1     2     1    5.0  Amazing place. Everyone was extremely warm and...   \n",
       "\n",
       "   sentiment_score  review_emb1  review_emb2  review_emb3  review_emb4  \\\n",
       "0         0.589286    -0.615637     0.422410     0.742249    -0.067865   \n",
       "1         0.375000    -0.556816    -0.647894    -1.165584    -0.107210   \n",
       "\n",
       "   review_emb5  ...  review_emb7  review_emb8  review_emb9  review_emb10  \\\n",
       "0    -1.098715  ...    -0.709653     0.544356    -0.364870      0.554728   \n",
       "1     0.040054  ...     0.628132     0.233793    -0.407031      0.435241   \n",
       "\n",
       "   review_emb11  review_emb12  review_emb13  review_emb14  review_emb15  \\\n",
       "0      0.266643      0.372926     -0.458409      0.010433     -0.721811   \n",
       "1     -0.051325      0.199424     -0.269242     -0.562541     -0.418706   \n",
       "\n",
       "   review_emb16  \n",
       "0     -0.114598  \n",
       "1      0.303380  \n",
       "\n",
       "[2 rows x 21 columns]"
      ]
     },
     "execution_count": 95,
     "metadata": {},
     "output_type": "execute_result"
    }
   ],
   "source": [
    "df1.head(2)"
   ]
  },
  {
   "cell_type": "code",
   "execution_count": 96,
   "id": "8220cc60",
   "metadata": {},
   "outputs": [],
   "source": [
    "df1[\"negation_list\"] = df1[\"reviews\"].apply(lambda x:identify_all_negs(x)[3])\n",
    "df1[\"no_of_negations\"] = df1[\"negation_list\"].apply(lambda x:len(x))"
   ]
  },
  {
   "cell_type": "code",
   "execution_count": 100,
   "id": "de1fc276",
   "metadata": {},
   "outputs": [
    {
     "data": {
      "text/html": [
       "<div>\n",
       "<style scoped>\n",
       "    .dataframe tbody tr th:only-of-type {\n",
       "        vertical-align: middle;\n",
       "    }\n",
       "\n",
       "    .dataframe tbody tr th {\n",
       "        vertical-align: top;\n",
       "    }\n",
       "\n",
       "    .dataframe thead th {\n",
       "        text-align: right;\n",
       "    }\n",
       "</style>\n",
       "<table border=\"1\" class=\"dataframe\">\n",
       "  <thead>\n",
       "    <tr style=\"text-align: right;\">\n",
       "      <th></th>\n",
       "      <th>user</th>\n",
       "      <th>item</th>\n",
       "      <th>label</th>\n",
       "      <th>reviews</th>\n",
       "      <th>sentiment_score</th>\n",
       "      <th>review_emb1</th>\n",
       "      <th>review_emb2</th>\n",
       "      <th>review_emb3</th>\n",
       "      <th>review_emb4</th>\n",
       "      <th>review_emb5</th>\n",
       "      <th>...</th>\n",
       "      <th>review_emb9</th>\n",
       "      <th>review_emb10</th>\n",
       "      <th>review_emb11</th>\n",
       "      <th>review_emb12</th>\n",
       "      <th>review_emb13</th>\n",
       "      <th>review_emb14</th>\n",
       "      <th>review_emb15</th>\n",
       "      <th>review_emb16</th>\n",
       "      <th>negation_list</th>\n",
       "      <th>no_of_negations</th>\n",
       "    </tr>\n",
       "  </thead>\n",
       "  <tbody>\n",
       "    <tr>\n",
       "      <th>0</th>\n",
       "      <td>1</td>\n",
       "      <td>1</td>\n",
       "      <td>5.0</td>\n",
       "      <td>Our experience at Rancho Valencia was absolute...</td>\n",
       "      <td>0.589286</td>\n",
       "      <td>-0.615637</td>\n",
       "      <td>0.422410</td>\n",
       "      <td>0.742249</td>\n",
       "      <td>-0.067865</td>\n",
       "      <td>-1.098715</td>\n",
       "      <td>...</td>\n",
       "      <td>-0.364870</td>\n",
       "      <td>0.554728</td>\n",
       "      <td>0.266643</td>\n",
       "      <td>0.372926</td>\n",
       "      <td>-0.458409</td>\n",
       "      <td>0.010433</td>\n",
       "      <td>-0.721811</td>\n",
       "      <td>-0.114598</td>\n",
       "      <td>[]</td>\n",
       "      <td>0</td>\n",
       "    </tr>\n",
       "    <tr>\n",
       "      <th>1</th>\n",
       "      <td>2</td>\n",
       "      <td>1</td>\n",
       "      <td>5.0</td>\n",
       "      <td>Amazing place. Everyone was extremely warm and...</td>\n",
       "      <td>0.375000</td>\n",
       "      <td>-0.556816</td>\n",
       "      <td>-0.647894</td>\n",
       "      <td>-1.165584</td>\n",
       "      <td>-0.107210</td>\n",
       "      <td>0.040054</td>\n",
       "      <td>...</td>\n",
       "      <td>-0.407031</td>\n",
       "      <td>0.435241</td>\n",
       "      <td>-0.051325</td>\n",
       "      <td>0.199424</td>\n",
       "      <td>-0.269242</td>\n",
       "      <td>-0.562541</td>\n",
       "      <td>-0.418706</td>\n",
       "      <td>0.303380</td>\n",
       "      <td>[not]</td>\n",
       "      <td>1</td>\n",
       "    </tr>\n",
       "  </tbody>\n",
       "</table>\n",
       "<p>2 rows × 23 columns</p>\n",
       "</div>"
      ],
      "text/plain": [
       "   user  item  label                                            reviews  \\\n",
       "0     1     1    5.0  Our experience at Rancho Valencia was absolute...   \n",
       "1     2     1    5.0  Amazing place. Everyone was extremely warm and...   \n",
       "\n",
       "   sentiment_score  review_emb1  review_emb2  review_emb3  review_emb4  \\\n",
       "0         0.589286    -0.615637     0.422410     0.742249    -0.067865   \n",
       "1         0.375000    -0.556816    -0.647894    -1.165584    -0.107210   \n",
       "\n",
       "   review_emb5  ...  review_emb9  review_emb10  review_emb11  review_emb12  \\\n",
       "0    -1.098715  ...    -0.364870      0.554728      0.266643      0.372926   \n",
       "1     0.040054  ...    -0.407031      0.435241     -0.051325      0.199424   \n",
       "\n",
       "   review_emb13  review_emb14  review_emb15  review_emb16  negation_list  \\\n",
       "0     -0.458409      0.010433     -0.721811     -0.114598             []   \n",
       "1     -0.269242     -0.562541     -0.418706      0.303380          [not]   \n",
       "\n",
       "   no_of_negations  \n",
       "0                0  \n",
       "1                1  \n",
       "\n",
       "[2 rows x 23 columns]"
      ]
     },
     "execution_count": 100,
     "metadata": {},
     "output_type": "execute_result"
    }
   ],
   "source": [
    "df1.head(2)"
   ]
  },
  {
   "cell_type": "code",
   "execution_count": 101,
   "id": "c4b602f5",
   "metadata": {},
   "outputs": [],
   "source": [
    "df1.to_csv(\"datasets/preparation_of_datasets/Hotel/Preprocessed_Hotel_dataset.csv\", index=False)"
   ]
  },
  {
   "cell_type": "code",
   "execution_count": 102,
   "id": "cb0484b5",
   "metadata": {},
   "outputs": [],
   "source": [
    "df1_cpy = df1.copy()"
   ]
  },
  {
   "cell_type": "code",
   "execution_count": 104,
   "id": "74cbfa02",
   "metadata": {},
   "outputs": [
    {
     "data": {
      "image/png": "[encoded data removed]",
      "text/plain": [
       "<Figure size 432x288 with 1 Axes>"
      ]
     },
     "metadata": {
      "needs_background": "light"
     },
     "output_type": "display_data"
    }
   ],
   "source": [
    "p = df1.pivot(columns='label', values='label').plot.hist(legend=False)\n",
    "plt.xticks([1,2,3,4,5])\n",
    "plt.xlabel('Ratings',fontsize=10)\n",
    "plt.ylabel('Number of reviews',fontsize=10)\n",
    "plt.title('Distribution of ratings of Hotel Reviews dataset', fontsize=12, fontname=\"Times New Roman\")\n",
    "p.get_figure().savefig(\"pics/Hotel_distribution_of_ratings.png\", dpi=500)"
   ]
  },
  {
   "cell_type": "code",
   "execution_count": 111,
   "id": "5625a839",
   "metadata": {},
   "outputs": [
    {
     "data": {
      "image/png": "[encoded data removed]",
      "text/plain": [
       "<Figure size 432x288 with 1 Axes>"
      ]
     },
     "metadata": {
      "needs_background": "light"
     },
     "output_type": "display_data"
    }
   ],
   "source": [
    "plt.hist([df1.label[(df1['label']>=1) & (df1['label']<=2)], \n",
    "          df1.label[df1['label']==3], \n",
    "          df1.label[(df1['label']>=4) & (df1['label']<=5)]],          \n",
    "         color=['Blue', 'Orange', 'Green'], \n",
    "         label=['Negative', 'Neutral','Positive'])\n",
    "\n",
    "plt.legend()\n",
    "plt.xticks(range(1,6))\n",
    "\n",
    "plt.xlabel('Ratings',fontsize=10)\n",
    "plt.ylabel('Number of reviews',fontsize=10, fontname='Times New Roman')\n",
    "plt.savefig(\"pics/Hotel_neg_neu_pos_classes.png\", dpi=300)"
   ]
  },
  {
   "cell_type": "code",
   "execution_count": 107,
   "id": "aa9245e1",
   "metadata": {},
   "outputs": [],
   "source": [
    "df1_negative = df1[(df1['label']>=1) & (df1['label']<=2)]\n",
    "df1_neutral = df1[df1['label']==3]\n",
    "df1_postive = df1[(df1['label']>=4) & (df1['label']<=5)]"
   ]
  },
  {
   "cell_type": "code",
   "execution_count": 110,
   "id": "26da2efd",
   "metadata": {},
   "outputs": [
    {
     "name": "stdout",
     "output_type": "stream",
     "text": [
      "Percentage of negation present in negative rated reviews:  82.74067649609714\n",
      "Percentage of negation present in neutral rated reviews:  66.77908937605397\n",
      "Percentage of negation present in postive rated reviews:  39.82701812191104\n"
     ]
    }
   ],
   "source": [
    "df1_negs_in_neg_reviews = len(df1_negative[df1_negative[\"no_of_negations\"]>0])\n",
    "print(\"Percentage of negation present in negative rated reviews: \", (df1_negs_in_neg_reviews/len(df1_negative))*100)\n",
    "\n",
    "df1_negs_in_neu_reviews = len(df1_neutral[df1_neutral[\"no_of_negations\"]>0])\n",
    "print(\"Percentage of negation present in neutral rated reviews: \", (df1_negs_in_neu_reviews/len(df1_neutral))*100)\n",
    "\n",
    "df1_negs_in_pos_reviews = len(df1_postive[df1_postive[\"no_of_negations\"]>0])\n",
    "print(\"Percentage of negation present in postive rated reviews: \", (df1_negs_in_pos_reviews/len(df1_postive))*100)"
   ]
  },
  {
   "cell_type": "code",
   "execution_count": 113,
   "id": "311e3aa3",
   "metadata": {},
   "outputs": [
    {
     "data": {
      "image/png": "[encoded data removed]",
      "text/plain": [
       "<Figure size 432x288 with 1 Axes>"
      ]
     },
     "metadata": {
      "needs_background": "light"
     },
     "output_type": "display_data"
    }
   ],
   "source": [
    "import numpy as np\n",
    "import matplotlib.pyplot as plt\n",
    "plt.style.use('seaborn-deep')\n",
    "\n",
    "x = df1[df1['no_of_negations']>0].label\n",
    "y = df1['label']\n",
    "bins = np.arange(1, 6)\n",
    "\n",
    "plt.hist([x, y], bins)\n",
    "plt.legend(['No. of Reviews with negations', 'No. of reviews with & without negations'], loc='upper center')\n",
    "plt.xticks(bins)\n",
    "\n",
    "plt.xlabel('Ratings',fontsize=8)\n",
    "plt.ylabel('Number of reviews',fontsize=10, fontname='Times New Roman')\n",
    "plt.savefig(\"pics/Hotel_reviews_with_without_negs.png\", dpi=300)"
   ]
  },
  {
   "cell_type": "markdown",
   "id": "39df8bec",
   "metadata": {},
   "source": [
    "### Amazon Video Games dataset"
   ]
  },
  {
   "cell_type": "code",
   "execution_count": 114,
   "id": "784eb068",
   "metadata": {},
   "outputs": [],
   "source": [
    "df3 = pd.read_csv(\"datasets/preparation_of_datasets/Amazon_Video_Games/Preprocessed_Amazon_Video_Games.csv\")"
   ]
  },
  {
   "cell_type": "code",
   "execution_count": 115,
   "id": "d405f6ec",
   "metadata": {},
   "outputs": [
    {
     "data": {
      "text/html": [
       "<div>\n",
       "<style scoped>\n",
       "    .dataframe tbody tr th:only-of-type {\n",
       "        vertical-align: middle;\n",
       "    }\n",
       "\n",
       "    .dataframe tbody tr th {\n",
       "        vertical-align: top;\n",
       "    }\n",
       "\n",
       "    .dataframe thead th {\n",
       "        text-align: right;\n",
       "    }\n",
       "</style>\n",
       "<table border=\"1\" class=\"dataframe\">\n",
       "  <thead>\n",
       "    <tr style=\"text-align: right;\">\n",
       "      <th></th>\n",
       "      <th>user</th>\n",
       "      <th>item</th>\n",
       "      <th>label</th>\n",
       "      <th>reviews</th>\n",
       "      <th>sentiment_score</th>\n",
       "    </tr>\n",
       "  </thead>\n",
       "  <tbody>\n",
       "    <tr>\n",
       "      <th>0</th>\n",
       "      <td>1</td>\n",
       "      <td>1</td>\n",
       "      <td>1</td>\n",
       "      <td>Installing the game was a struggle (because of...</td>\n",
       "      <td>-0.000189</td>\n",
       "    </tr>\n",
       "    <tr>\n",
       "      <th>1</th>\n",
       "      <td>2</td>\n",
       "      <td>1</td>\n",
       "      <td>4</td>\n",
       "      <td>If you like rally cars get this game you will ...</td>\n",
       "      <td>0.111111</td>\n",
       "    </tr>\n",
       "    <tr>\n",
       "      <th>2</th>\n",
       "      <td>3</td>\n",
       "      <td>1</td>\n",
       "      <td>1</td>\n",
       "      <td>st shipment received a book instead of the gam...</td>\n",
       "      <td>-0.170833</td>\n",
       "    </tr>\n",
       "    <tr>\n",
       "      <th>3</th>\n",
       "      <td>4</td>\n",
       "      <td>1</td>\n",
       "      <td>3</td>\n",
       "      <td>I got this version instead of the PS version, ...</td>\n",
       "      <td>0.007612</td>\n",
       "    </tr>\n",
       "    <tr>\n",
       "      <th>4</th>\n",
       "      <td>5</td>\n",
       "      <td>1</td>\n",
       "      <td>4</td>\n",
       "      <td>I had Dirt  on Xbox  and it was an okay game. ...</td>\n",
       "      <td>0.190795</td>\n",
       "    </tr>\n",
       "    <tr>\n",
       "      <th>...</th>\n",
       "      <td>...</td>\n",
       "      <td>...</td>\n",
       "      <td>...</td>\n",
       "      <td>...</td>\n",
       "      <td>...</td>\n",
       "    </tr>\n",
       "    <tr>\n",
       "      <th>231731</th>\n",
       "      <td>16197</td>\n",
       "      <td>10672</td>\n",
       "      <td>5</td>\n",
       "      <td>Funny people on here are rating sellers that a...</td>\n",
       "      <td>0.408333</td>\n",
       "    </tr>\n",
       "    <tr>\n",
       "      <th>231732</th>\n",
       "      <td>10698</td>\n",
       "      <td>10672</td>\n",
       "      <td>1</td>\n",
       "      <td>All this is is the Deluxe GB Wii U with Mario ...</td>\n",
       "      <td>0.023214</td>\n",
       "    </tr>\n",
       "    <tr>\n",
       "      <th>231733</th>\n",
       "      <td>21854</td>\n",
       "      <td>10672</td>\n",
       "      <td>1</td>\n",
       "      <td>The package should have more red on it and sho...</td>\n",
       "      <td>0.143750</td>\n",
       "    </tr>\n",
       "    <tr>\n",
       "      <th>231734</th>\n",
       "      <td>22652</td>\n",
       "      <td>10672</td>\n",
       "      <td>1</td>\n",
       "      <td>Can get this at Newegg for $. and the packagin...</td>\n",
       "      <td>0.000000</td>\n",
       "    </tr>\n",
       "    <tr>\n",
       "      <th>231735</th>\n",
       "      <td>24273</td>\n",
       "      <td>10672</td>\n",
       "      <td>1</td>\n",
       "      <td>This is not real, you can go to ANY retail sto...</td>\n",
       "      <td>0.107015</td>\n",
       "    </tr>\n",
       "  </tbody>\n",
       "</table>\n",
       "<p>231736 rows × 5 columns</p>\n",
       "</div>"
      ],
      "text/plain": [
       "         user   item  label  \\\n",
       "0           1      1      1   \n",
       "1           2      1      4   \n",
       "2           3      1      1   \n",
       "3           4      1      3   \n",
       "4           5      1      4   \n",
       "...       ...    ...    ...   \n",
       "231731  16197  10672      5   \n",
       "231732  10698  10672      1   \n",
       "231733  21854  10672      1   \n",
       "231734  22652  10672      1   \n",
       "231735  24273  10672      1   \n",
       "\n",
       "                                                  reviews  sentiment_score  \n",
       "0       Installing the game was a struggle (because of...        -0.000189  \n",
       "1       If you like rally cars get this game you will ...         0.111111  \n",
       "2       st shipment received a book instead of the gam...        -0.170833  \n",
       "3       I got this version instead of the PS version, ...         0.007612  \n",
       "4       I had Dirt  on Xbox  and it was an okay game. ...         0.190795  \n",
       "...                                                   ...              ...  \n",
       "231731  Funny people on here are rating sellers that a...         0.408333  \n",
       "231732  All this is is the Deluxe GB Wii U with Mario ...         0.023214  \n",
       "231733  The package should have more red on it and sho...         0.143750  \n",
       "231734  Can get this at Newegg for $. and the packagin...         0.000000  \n",
       "231735  This is not real, you can go to ANY retail sto...         0.107015  \n",
       "\n",
       "[231736 rows x 5 columns]"
      ]
     },
     "execution_count": 115,
     "metadata": {},
     "output_type": "execute_result"
    }
   ],
   "source": [
    "df3"
   ]
  },
  {
   "cell_type": "code",
   "execution_count": null,
   "id": "21639a74",
   "metadata": {},
   "outputs": [],
   "source": [
    "df3[\"negation_list\"] = df3[\"reviews\"].apply(lambda x:identify_all_negs(x)[3])\n",
    "df3[\"no_of_negations\"] = df3[\"negation_list\"].apply(lambda x:len(x))"
   ]
  },
  {
   "cell_type": "code",
   "execution_count": null,
   "id": "433d9906",
   "metadata": {},
   "outputs": [],
   "source": [
    "df3.to_csv(\"datasets/preparation_of_datasets/Amazon_Video_Games/Preprocessed_Video_Games_dataset.csv\", index=False)"
   ]
  },
  {
   "cell_type": "code",
   "execution_count": null,
   "id": "2284049d",
   "metadata": {},
   "outputs": [],
   "source": []
  }
 ],
 "metadata": {
  "kernelspec": {
   "display_name": "Python 3 (ipykernel)",
   "language": "python",
   "name": "python3"
  },
  "language_info": {
   "codemirror_mode": {
    "name": "ipython",
    "version": 3
   },
   "file_extension": ".py",
   "mimetype": "text/x-python",
   "name": "python",
   "nbconvert_exporter": "python",
   "pygments_lexer": "ipython3",
   "version": "3.7.11"
  }
 },
 "nbformat": 4,
 "nbformat_minor": 5
}
