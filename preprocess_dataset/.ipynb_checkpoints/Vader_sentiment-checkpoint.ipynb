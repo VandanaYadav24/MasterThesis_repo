{
 "cells": [
  {
   "cell_type": "code",
   "execution_count": 1,
   "id": "9354f303",
   "metadata": {},
   "outputs": [],
   "source": [
    "import pandas as pd\n",
    "import numpy as np"
   ]
  },
  {
   "cell_type": "markdown",
   "id": "02ac6c47",
   "metadata": {},
   "source": [
    "### Hotel Reviews dataset"
   ]
  },
  {
   "cell_type": "code",
   "execution_count": 53,
   "id": "83a4f7de",
   "metadata": {},
   "outputs": [],
   "source": [
    "df1 = pd.read_csv(\"datasets/preparation_of_datasets/hotel/new_vader/hotel_bert_emb_pca16_senti.csv\")"
   ]
  },
  {
   "cell_type": "code",
   "execution_count": null,
   "id": "cf112980",
   "metadata": {},
   "outputs": [],
   "source": [
    "# df1.loc[df1['vader_negations'] == 0, 'negation_occurrence'] = 0\n",
    "# df1.loc[df1['vader_negations'] > 0, 'negation_occurrence'] = 1\n",
    "# df1['negation_occurrence'] = df1['negation_occurrence'].astype(int)"
   ]
  },
  {
   "cell_type": "code",
   "execution_count": null,
   "id": "48aa5d40",
   "metadata": {},
   "outputs": [],
   "source": [
    "# df1.to_csv(\"datasets/preparation_of_datasets/Hotel/new_vader/hotel_bert_emb_pca16_senti.csv\", index=False)"
   ]
  },
  {
   "cell_type": "code",
   "execution_count": null,
   "id": "6d90e473",
   "metadata": {},
   "outputs": [],
   "source": []
  },
  {
   "cell_type": "code",
   "execution_count": 58,
   "id": "c9ee566b",
   "metadata": {},
   "outputs": [
    {
     "name": "stdout",
     "output_type": "stream",
     "text": [
      "Sub dataset of positive rated reviews having negations:  (1187, 23)\n",
      "Sub dataset of neutral rated reviews having negations:  (438, 23)\n",
      "Sub dataset of negative rated reviews having negations:  (475, 23)\n"
     ]
    }
   ],
   "source": [
    "df1_posRated_withNegs = df1[(df1[\"vader_negations\"]>0) & (df1[\"label\"]>=4) & (df1[\"label\"]<=5)]\n",
    "df1_neuRated_withNegs = df1[(df1[\"vader_negations\"]>0) & (df1[\"label\"]>2) & (df1[\"label\"]<=3)]\n",
    "df1_negRated_withNegs = df1[(df1[\"vader_negations\"]>0) & (df1[\"label\"]>=1) & (df1[\"label\"]<=2)]\n",
    "\n",
    "print(\"Sub dataset of positive rated reviews having negations: \", df1_posRated_withNegs.shape)\n",
    "print(\"Sub dataset of neutral rated reviews having negations: \", df1_neuRated_withNegs.shape)\n",
    "print(\"Sub dataset of negative rated reviews having negations: \", df1_negRated_withNegs.shape)"
   ]
  },
  {
   "cell_type": "code",
   "execution_count": 59,
   "id": "3cdb9cf9",
   "metadata": {},
   "outputs": [
    {
     "name": "stdout",
     "output_type": "stream",
     "text": [
      "Percentage of negation present in postive rated reviews:  16.29599121361889\n",
      "Percentage of negation present in neutral rated reviews:  29.97946611909651\n",
      "Percentage of negation present in negative rated reviews:  37.909018355945726\n"
     ]
    }
   ],
   "source": [
    "df1_postive = df1[(df1['label']>=4) & (df1['label']<=5)]\n",
    "df1_neutral = df1[(df1[\"label\"]>2) & (df1['label']<=3)]\n",
    "df1_negative = df1[(df1['label']>=1) & (df1['label']<=2)]\n",
    "\n",
    "print(\"Percentage of negation present in postive rated reviews: \", ( (len(df1_posRated_withNegs)/len(df1_postive))*100) )\n",
    "\n",
    "print(\"Percentage of negation present in neutral rated reviews: \", ( (len(df1_neuRated_withNegs)/len(df1_neutral))*100) )\n",
    "\n",
    "print(\"Percentage of negation present in negative rated reviews: \", ( (len(df1_negRated_withNegs)/len(df1_negative))*100) )"
   ]
  },
  {
   "cell_type": "code",
   "execution_count": 60,
   "id": "9315354d",
   "metadata": {},
   "outputs": [
    {
     "name": "stdout",
     "output_type": "stream",
     "text": [
      "Sub dataset which includes reviews having negations:  (2100, 23)\n"
     ]
    }
   ],
   "source": [
    "df1_reviews_with_negs = df1[(df1[\"vader_negations\"]>0)]\n",
    "print(\"Sub dataset which includes reviews having negations: \", df1_reviews_with_negs.shape)\n",
    "df1_reviews_with_negs.to_csv(\"datasets/preparation_of_datasets/Hotel/new_vader/Hotel_Reviews_with_negs.csv\", index=False)"
   ]
  },
  {
   "cell_type": "code",
   "execution_count": 61,
   "id": "ab0f543c",
   "metadata": {},
   "outputs": [
    {
     "name": "stdout",
     "output_type": "stream",
     "text": [
      "Sub dataset which includes reviews having zero negations:  (7898, 23)\n"
     ]
    }
   ],
   "source": [
    "df1_reviews_without_negs = df1[(df1[\"vader_negations\"]==0)]\n",
    "print(\"Sub dataset which includes reviews having zero negations: \", df1_reviews_without_negs.shape)\n",
    "df1_reviews_without_negs.to_csv(\"datasets/preparation_of_datasets/Hotel/new_vader/Hotel_Reviews_without_negs.csv\", index=False)"
   ]
  },
  {
   "cell_type": "markdown",
   "id": "36226aaa",
   "metadata": {},
   "source": [
    "#### Comments:\n",
    "- apply df1_reviews_with_negs, df1_reviews_without_negs and df1 datasets to DeepFM and BERT2Rec models"
   ]
  },
  {
   "cell_type": "code",
   "execution_count": 55,
   "id": "00607264",
   "metadata": {},
   "outputs": [],
   "source": []
  },
  {
   "cell_type": "code",
   "execution_count": null,
   "id": "feff290e",
   "metadata": {},
   "outputs": [],
   "source": []
  },
  {
   "cell_type": "code",
   "execution_count": null,
   "id": "14002c85",
   "metadata": {},
   "outputs": [],
   "source": []
  },
  {
   "cell_type": "markdown",
   "id": "a07e060c",
   "metadata": {},
   "source": [
    "### Amazon Music Dataset"
   ]
  },
  {
   "cell_type": "code",
   "execution_count": 16,
   "id": "0ff63e76",
   "metadata": {},
   "outputs": [],
   "source": [
    "df2 = pd.read_csv(\"datasets/preparation_of_datasets/Amazon_Music/new_vader/bert_emb_pca13_senti.csv\")"
   ]
  },
  {
   "cell_type": "code",
   "execution_count": 77,
   "id": "09c82306",
   "metadata": {},
   "outputs": [],
   "source": [
    "# df2.loc[df2['vader_negations'] == 0, 'negation_occurrence'] = 0\n",
    "# df2.loc[df2['vader_negations'] > 0, 'negation_occurrence'] = 1\n",
    "# df2['negation_occurrence'] = df2['negation_occurrence'].astype(int)"
   ]
  },
  {
   "cell_type": "code",
   "execution_count": null,
   "id": "c84a4aa2",
   "metadata": {},
   "outputs": [],
   "source": [
    "# df2.to_csv(\"datasets/preparation_of_datasets/Amazon_Music/new_vader/bert_emb_pca13_senti.csv\", index=False)"
   ]
  },
  {
   "cell_type": "code",
   "execution_count": null,
   "id": "3dc3c956",
   "metadata": {},
   "outputs": [],
   "source": []
  },
  {
   "cell_type": "code",
   "execution_count": 63,
   "id": "10ee2cc2",
   "metadata": {},
   "outputs": [
    {
     "name": "stdout",
     "output_type": "stream",
     "text": [
      "Sub dataset of positive rated reviews having negations:  (25754, 20)\n",
      "Sub dataset of neutral rated reviews having negations:  (4149, 20)\n",
      "Sub dataset of negative rated reviews having negations:  (3162, 20)\n"
     ]
    }
   ],
   "source": [
    "df2_posRated_withNegs = df2[(df2[\"vader_negations\"]>0) & (df2[\"label\"]>=4) & (df2[\"label\"]<=5)]\n",
    "df2_neuRated_withNegs = df2[(df2[\"vader_negations\"]>0) & (df2[\"label\"]==3)]\n",
    "df2_negRated_withNegs = df2[(df2[\"vader_negations\"]>0) & (df2[\"label\"]>=1) & (df2[\"label\"]<=2)]\n",
    "\n",
    "print(\"Sub dataset of positive rated reviews having negations: \", df2_posRated_withNegs.shape)\n",
    "print(\"Sub dataset of neutral rated reviews having negations: \", df2_neuRated_withNegs.shape)\n",
    "print(\"Sub dataset of negative rated reviews having negations: \", df2_negRated_withNegs.shape)"
   ]
  },
  {
   "cell_type": "code",
   "execution_count": 64,
   "id": "6096d155",
   "metadata": {},
   "outputs": [
    {
     "name": "stdout",
     "output_type": "stream",
     "text": [
      "Percentage of negation present in postive rated reviews:  49.41668585463198\n",
      "Percentage of negation present in neutral rated reviews:  61.122569239835\n",
      "Percentage of negation present in negative rated reviews:  54.50784347526289\n"
     ]
    }
   ],
   "source": [
    "df2_postive = df2[(df2['label']>=4) & (df2['label']<=5)]\n",
    "df2_neutral = df2[df2['label']==3]\n",
    "df2_negative = df2[(df2['label']>=1) & (df2['label']<=2)]\n",
    "\n",
    "print(\"Percentage of negation present in postive rated reviews: \", ( (len(df2_posRated_withNegs)/len(df2_postive))*100) )\n",
    "\n",
    "print(\"Percentage of negation present in neutral rated reviews: \", ( (len(df2_neuRated_withNegs)/len(df2_neutral))*100) )\n",
    "\n",
    "print(\"Percentage of negation present in negative rated reviews: \", ( (len(df2_negRated_withNegs)/len(df2_negative))*100) )"
   ]
  },
  {
   "cell_type": "code",
   "execution_count": 65,
   "id": "679f5679",
   "metadata": {},
   "outputs": [
    {
     "name": "stdout",
     "output_type": "stream",
     "text": [
      "Sub dataset which includes reviews having negations:  (33065, 20)\n"
     ]
    }
   ],
   "source": [
    "df2_reviews_with_negs = df2[(df2[\"vader_negations\"]>0)]\n",
    "print(\"Sub dataset which includes reviews having negations: \", df2_reviews_with_negs.shape)\n",
    "df2_reviews_with_negs.to_csv(\"datasets/preparation_of_datasets/Amazon_Music/new_vader/Amazon_Music_Reviews_with_negs.csv\", index=False)"
   ]
  },
  {
   "cell_type": "code",
   "execution_count": 66,
   "id": "23a7edc5",
   "metadata": {},
   "outputs": [
    {
     "name": "stdout",
     "output_type": "stream",
     "text": [
      "Sub dataset which includes reviews having zero negations:  (31640, 20)\n"
     ]
    }
   ],
   "source": [
    "df2_reviews_without_negs = df2[(df2[\"vader_negations\"]==0)]\n",
    "print(\"Sub dataset which includes reviews having zero negations: \", df2_reviews_without_negs.shape)\n",
    "df2_reviews_without_negs.to_csv(\"datasets/preparation_of_datasets/Amazon_Music/new_vader/Amazon_Music_without_negs.csv\", index=False)"
   ]
  },
  {
   "cell_type": "markdown",
   "id": "9121fead",
   "metadata": {},
   "source": [
    "#### Comments:\n",
    "- apply df2_reviews_with_negs, df2_reviews_without_negs and df1 datasets to DeepFM and BERT2Rec models"
   ]
  },
  {
   "cell_type": "code",
   "execution_count": 33,
   "id": "261d3116",
   "metadata": {},
   "outputs": [],
   "source": []
  },
  {
   "cell_type": "code",
   "execution_count": null,
   "id": "bbfc9154",
   "metadata": {},
   "outputs": [],
   "source": []
  },
  {
   "cell_type": "markdown",
   "id": "46b48c96",
   "metadata": {},
   "source": [
    "### Amazon Video Games"
   ]
  },
  {
   "cell_type": "code",
   "execution_count": 79,
   "id": "ac391ae8",
   "metadata": {},
   "outputs": [],
   "source": [
    "df3 = pd.read_csv(\"datasets/preparation_of_datasets/Amazon_Video_Games/new_vader/Preprocessed_Amazon_Video_Games.csv\")"
   ]
  },
  {
   "cell_type": "code",
   "execution_count": 82,
   "id": "989310cf",
   "metadata": {},
   "outputs": [],
   "source": [
    "# df3.loc[df3['vader_negations'] == 0, 'negation_occurrence'] = 0\n",
    "# df3.loc[df3['vader_negations'] > 0, 'negation_occurrence'] = 1\n",
    "# df3['negation_occurrence'] = df3['negation_occurrence'].astype(int)"
   ]
  },
  {
   "cell_type": "code",
   "execution_count": 86,
   "id": "b28ee964",
   "metadata": {},
   "outputs": [],
   "source": [
    "# df3.to_csv(\"datasets/preparation_of_datasets/Amazon_Video_Games/new_vader/Preprocessed_Amazon_Video_Games.csv\", index=False)"
   ]
  },
  {
   "cell_type": "code",
   "execution_count": null,
   "id": "8bff6b01",
   "metadata": {},
   "outputs": [],
   "source": []
  },
  {
   "cell_type": "code",
   "execution_count": null,
   "id": "90cb990c",
   "metadata": {},
   "outputs": [],
   "source": []
  },
  {
   "cell_type": "code",
   "execution_count": 69,
   "id": "16cdc715",
   "metadata": {},
   "outputs": [
    {
     "name": "stdout",
     "output_type": "stream",
     "text": [
      "Sub dataset of positive rated reviews having negations:  (72005, 19)\n",
      "Sub dataset of neutral rated reviews having negations:  (16053, 19)\n",
      "Sub dataset of negative rated reviews having negations:  (15283, 19)\n"
     ]
    }
   ],
   "source": [
    "df3_posRated_withNegs = df3[(df3[\"vader_negations\"]>0) & (df3[\"label\"]>=4) & (df3[\"label\"]<=5)]\n",
    "df3_neuRated_withNegs = df3[(df3[\"vader_negations\"]>0) & (df3[\"label\"]==3)]\n",
    "df3_negRated_withNegs = df3[(df3[\"vader_negations\"]>0) & (df3[\"label\"]>=1) & (df3[\"label\"]<=2)]\n",
    "\n",
    "print(\"Sub dataset of positive rated reviews having negations: \", df3_posRated_withNegs.shape)\n",
    "print(\"Sub dataset of neutral rated reviews having negations: \", df3_neuRated_withNegs.shape)\n",
    "print(\"Sub dataset of negative rated reviews having negations: \", df3_negRated_withNegs.shape)"
   ]
  },
  {
   "cell_type": "code",
   "execution_count": 49,
   "id": "c9e41e02",
   "metadata": {},
   "outputs": [
    {
     "name": "stdout",
     "output_type": "stream",
     "text": [
      "Percentage of negation present in postive rated reviews:  48.933433931204775\n",
      "Percentage of negation present in neutral rated reviews:  66.22572772609911\n",
      "Percentage of negation present in negative rated reviews:  64.18674804447718\n"
     ]
    }
   ],
   "source": [
    "df3_postive = df3[(df3['label']>=4) & (df3['label']<=5)]\n",
    "df3_neutral = df3[df3['label']==3]\n",
    "df3_negative = df3[(df3['label']>=1) & (df3['label']<=2)]\n",
    "\n",
    "print(\"Percentage of negation present in postive rated reviews: \", ( (len(df3_posRated_withNegs)/len(df3_postive))*100) )\n",
    "\n",
    "print(\"Percentage of negation present in neutral rated reviews: \", ( (len(df3_neuRated_withNegs)/len(df3_neutral))*100) )\n",
    "\n",
    "print(\"Percentage of negation present in negative rated reviews: \", ( (len(df3_negRated_withNegs)/len(df3_negative))*100) )"
   ]
  },
  {
   "cell_type": "code",
   "execution_count": 50,
   "id": "0b35bae0",
   "metadata": {},
   "outputs": [
    {
     "name": "stdout",
     "output_type": "stream",
     "text": [
      "Sub dataset which includes reviews having negations:  (122634, 18)\n"
     ]
    }
   ],
   "source": [
    "df3_reviews_with_negs = df3[(df3[\"vader_negations\"]>0)]\n",
    "print(\"Sub dataset which includes reviews having negations: \", df3_reviews_with_negs.shape)\n",
    "# df3_reviews_with_negs.to_csv(\"datasets/preparation_of_datasets/Amazon_Video_Games/new_vader/Amazon_Video_Games_Reviews_with_negs.csv\", index=False)"
   ]
  },
  {
   "cell_type": "code",
   "execution_count": 51,
   "id": "ceac63a8",
   "metadata": {},
   "outputs": [
    {
     "name": "stdout",
     "output_type": "stream",
     "text": [
      "Sub dataset which includes reviews having zero negations:  (109102, 18)\n"
     ]
    }
   ],
   "source": [
    "df3_reviews_without_negs = df3[(df3[\"vader_negations\"]==0)]\n",
    "print(\"Sub dataset which includes reviews having zero negations: \", df3_reviews_without_negs.shape)\n",
    "# df3_reviews_without_negs.to_csv(\"datasets/preparation_of_datasets/Amazon_Video_Games/new_vader/Amazon_Video_Games_Reviews_without_negs.csv\", index=False)"
   ]
  },
  {
   "cell_type": "code",
   "execution_count": 67,
   "id": "647152fc",
   "metadata": {},
   "outputs": [],
   "source": []
  },
  {
   "cell_type": "code",
   "execution_count": 52,
   "id": "0bf1d07a",
   "metadata": {},
   "outputs": [],
   "source": []
  },
  {
   "cell_type": "code",
   "execution_count": null,
   "id": "ddfddc78",
   "metadata": {},
   "outputs": [],
   "source": []
  },
  {
   "cell_type": "code",
   "execution_count": null,
   "id": "5305933e",
   "metadata": {},
   "outputs": [],
   "source": []
  }
 ],
 "metadata": {
  "kernelspec": {
   "display_name": "Python 3 (ipykernel)",
   "language": "python",
   "name": "python3"
  },
  "language_info": {
   "codemirror_mode": {
    "name": "ipython",
    "version": 3
   },
   "file_extension": ".py",
   "mimetype": "text/x-python",
   "name": "python",
   "nbconvert_exporter": "python",
   "pygments_lexer": "ipython3",
   "version": "3.7.11"
  }
 },
 "nbformat": 4,
 "nbformat_minor": 5
}
