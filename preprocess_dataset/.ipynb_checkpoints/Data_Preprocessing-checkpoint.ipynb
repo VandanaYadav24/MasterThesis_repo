{
 "cells": [
  {
   "cell_type": "code",
   "execution_count": 1,
   "id": "a1c4d494",
   "metadata": {},
   "outputs": [],
   "source": [
    "import pandas as pd\n",
    "import re\n",
    "import numpy as np"
   ]
  },
  {
   "cell_type": "code",
   "execution_count": 2,
   "id": "43f88356",
   "metadata": {},
   "outputs": [],
   "source": [
    "def show_unique_values(df):\n",
    "    unique_users = df['user'].unique()\n",
    "    unique_items = df['item'].unique()\n",
    "    print(\"Unique users:\", len(unique_users))\n",
    "    print(\"Unique items:\", len(unique_items))"
   ]
  },
  {
   "cell_type": "code",
   "execution_count": 3,
   "id": "51206d6c",
   "metadata": {},
   "outputs": [],
   "source": [
    "def user_item_to_numeric_val(df):\n",
    "    unique_users = df['user'].unique()\n",
    "    unique_items = df['item'].unique()\n",
    "    \n",
    "    # users\n",
    "    user_dict = {}\n",
    "    all_users = np.arange(1,len(unique_users)+1).tolist()\n",
    "    for i in range(len(unique_users)):\n",
    "        user_dict[unique_users[i]] = all_users[i]\n",
    "    df[\"user\"] = df[\"user\"].map(user_dict)\n",
    "    \n",
    "    # items\n",
    "    item_dict = {}\n",
    "    all_items = np.arange(1,len(unique_items)+1).tolist()\n",
    "    for i in range(len(unique_items)):\n",
    "        item_dict[unique_items[i]] = all_items[i]\n",
    "    df[\"item\"] = df[\"item\"].map(item_dict)\n",
    "    return df"
   ]
  },
  {
   "cell_type": "code",
   "execution_count": 4,
   "id": "65387591",
   "metadata": {},
   "outputs": [],
   "source": [
    "def decontract(phrase):\n",
    "    phrase = re.sub(r\"[c|C]an\\'t\", \"can not\", phrase)\n",
    "    phrase = re.sub(r\"[w|W]on\\'t\", \"will not\", phrase)\n",
    "    phrase = re.sub(r\"[a|A]in\\'t\", \"am not\", phrase)\n",
    "    phrase = re.sub(r\"n\\'t\", \" not\", phrase)\n",
    "    phrase = re.sub(r\"N\\'T\", \" NOT\", phrase)\n",
    "    return phrase"
   ]
  },
  {
   "cell_type": "code",
   "execution_count": 5,
   "id": "3b3956dc",
   "metadata": {},
   "outputs": [],
   "source": [
    "def remove_non_english_rows(df):\n",
    "    non_eng_list = []\n",
    "    for i in range(len(df)):\n",
    "        if 'Â' in df['reviews'].iloc[i]:\n",
    "            print(df['reviews'].iloc[i])\n",
    "            print(i)\n",
    "            non_eng_list.append(i)\n",
    "    return non_eng_list"
   ]
  },
  {
   "cell_type": "code",
   "execution_count": 6,
   "id": "e8cd6fa9",
   "metadata": {},
   "outputs": [],
   "source": [
    "def preprocess(df, non_eng_list):\n",
    "#     df[\"reviews\"] = df[\"reviews\"].apply(lambda x:re.sub(r\"[c|C]an\\'t\", \"can not\", x))\n",
    "#     df[\"reviews\"] = df[\"reviews\"].apply(lambda x:re.sub(r\"[w|W]on\\'t\", \"will not\", x))\n",
    "#     df[\"reviews\"] = df[\"reviews\"].apply(lambda x:re.sub(r\"[a|A]in\\'t\", \"am not\",x))\n",
    "    \n",
    "#     df[\"reviews\"] = df[\"reviews\"].apply(lambda x: re.sub(r\"n\\'t\", \" not\", x))\n",
    "#     df[\"reviews\"] = df[\"reviews\"].apply(lambda x: re.sub(r\"N\\'T\", \" NOT\", x))\n",
    "    df[\"reviews\"] = df[\"reviews\"].apply(lambda x: re.sub('[0-9]','', x))\n",
    "    for item in non_eng_list:\n",
    "        df = df.drop(item) \n",
    "        df = df.reset_index()\n",
    "        df = df.drop(columns=['index'])\n",
    "    return df"
   ]
  },
  {
   "cell_type": "code",
   "execution_count": null,
   "id": "f2b68749",
   "metadata": {},
   "outputs": [],
   "source": []
  },
  {
   "cell_type": "markdown",
   "id": "38f9571d",
   "metadata": {},
   "source": [
    "### Hotel Dataset"
   ]
  },
  {
   "cell_type": "code",
   "execution_count": 7,
   "id": "1fca553a",
   "metadata": {},
   "outputs": [
    {
     "name": "stdout",
     "output_type": "stream",
     "text": [
      "<class 'pandas.core.frame.DataFrame'>\n",
      "RangeIndex: 10000 entries, 0 to 9999\n",
      "Data columns (total 25 columns):\n",
      " #   Column                Non-Null Count  Dtype  \n",
      "---  ------                --------------  -----  \n",
      " 0   id                    10000 non-null  object \n",
      " 1   dateAdded             10000 non-null  object \n",
      " 2   dateUpdated           10000 non-null  object \n",
      " 3   address               10000 non-null  object \n",
      " 4   categories            10000 non-null  object \n",
      " 5   primaryCategories     10000 non-null  object \n",
      " 6   city                  10000 non-null  object \n",
      " 7   country               10000 non-null  object \n",
      " 8   keys                  10000 non-null  object \n",
      " 9   latitude              10000 non-null  float64\n",
      " 10  longitude             10000 non-null  float64\n",
      " 11  name                  10000 non-null  object \n",
      " 12  postalCode            10000 non-null  object \n",
      " 13  province              10000 non-null  object \n",
      " 14  reviews.date          10000 non-null  object \n",
      " 15  reviews.dateSeen      10000 non-null  object \n",
      " 16  reviews.rating        10000 non-null  float64\n",
      " 17  reviews.sourceURLs    10000 non-null  object \n",
      " 18  reviews.text          9999 non-null   object \n",
      " 19  reviews.title         9999 non-null   object \n",
      " 20  reviews.userCity      4164 non-null   object \n",
      " 21  reviews.userProvince  2705 non-null   object \n",
      " 22  reviews.username      10000 non-null  object \n",
      " 23  sourceURLs            10000 non-null  object \n",
      " 24  websites              10000 non-null  object \n",
      "dtypes: float64(3), object(22)\n",
      "memory usage: 1.9+ MB\n"
     ]
    }
   ],
   "source": [
    "df1 = pd.read_csv('datasets/Datafiniti_Hotel_Reviews.csv')\n",
    "df1.info()"
   ]
  },
  {
   "cell_type": "markdown",
   "id": "51ba569b",
   "metadata": {},
   "source": [
    "#### Choose specific fields"
   ]
  },
  {
   "cell_type": "code",
   "execution_count": 8,
   "id": "3de5ef01",
   "metadata": {},
   "outputs": [
    {
     "name": "stdout",
     "output_type": "stream",
     "text": [
      "<class 'pandas.core.frame.DataFrame'>\n",
      "RangeIndex: 10000 entries, 0 to 9999\n",
      "Data columns (total 4 columns):\n",
      " #   Column   Non-Null Count  Dtype  \n",
      "---  ------   --------------  -----  \n",
      " 0   user     10000 non-null  object \n",
      " 1   item     10000 non-null  object \n",
      " 2   label    10000 non-null  float64\n",
      " 3   reviews  9999 non-null   object \n",
      "dtypes: float64(1), object(3)\n",
      "memory usage: 312.6+ KB\n"
     ]
    }
   ],
   "source": [
    "df1 = df1.filter(['reviews.username', 'name', 'reviews.rating', 'reviews.text'])\n",
    "df1.rename(columns={\"reviews.username\":\"user\", \"name\":\"item\", \"reviews.rating\": \"label\", \n",
    "                   \"reviews.text\":\"reviews\", \"reviews.title\":\"reviews_title\"}, inplace=True)\n",
    "df1.info()"
   ]
  },
  {
   "cell_type": "code",
   "execution_count": 9,
   "id": "cc9d04f7",
   "metadata": {},
   "outputs": [
    {
     "data": {
      "text/html": [
       "<div>\n",
       "<style scoped>\n",
       "    .dataframe tbody tr th:only-of-type {\n",
       "        vertical-align: middle;\n",
       "    }\n",
       "\n",
       "    .dataframe tbody tr th {\n",
       "        vertical-align: top;\n",
       "    }\n",
       "\n",
       "    .dataframe thead th {\n",
       "        text-align: right;\n",
       "    }\n",
       "</style>\n",
       "<table border=\"1\" class=\"dataframe\">\n",
       "  <thead>\n",
       "    <tr style=\"text-align: right;\">\n",
       "      <th></th>\n",
       "      <th>user</th>\n",
       "      <th>item</th>\n",
       "      <th>label</th>\n",
       "      <th>reviews</th>\n",
       "    </tr>\n",
       "  </thead>\n",
       "  <tbody>\n",
       "    <tr>\n",
       "      <th>0</th>\n",
       "      <td>Paula</td>\n",
       "      <td>Rancho Valencia Resort Spa</td>\n",
       "      <td>5.0</td>\n",
       "      <td>Our experience at Rancho Valencia was absolute...</td>\n",
       "    </tr>\n",
       "    <tr>\n",
       "      <th>1</th>\n",
       "      <td>D</td>\n",
       "      <td>Rancho Valencia Resort Spa</td>\n",
       "      <td>5.0</td>\n",
       "      <td>Amazing place. Everyone was extremely warm and...</td>\n",
       "    </tr>\n",
       "    <tr>\n",
       "      <th>2</th>\n",
       "      <td>Ron</td>\n",
       "      <td>Rancho Valencia Resort Spa</td>\n",
       "      <td>5.0</td>\n",
       "      <td>We booked a 3 night stay at Rancho Valencia to...</td>\n",
       "    </tr>\n",
       "    <tr>\n",
       "      <th>3</th>\n",
       "      <td>jaeem2016</td>\n",
       "      <td>Aloft Arundel Mills</td>\n",
       "      <td>2.0</td>\n",
       "      <td>Currently in bed writing this for the past hr ...</td>\n",
       "    </tr>\n",
       "    <tr>\n",
       "      <th>4</th>\n",
       "      <td>MamaNiaOne</td>\n",
       "      <td>Aloft Arundel Mills</td>\n",
       "      <td>5.0</td>\n",
       "      <td>I live in Md and the Aloft is my Home away fro...</td>\n",
       "    </tr>\n",
       "    <tr>\n",
       "      <th>...</th>\n",
       "      <td>...</td>\n",
       "      <td>...</td>\n",
       "      <td>...</td>\n",
       "      <td>...</td>\n",
       "    </tr>\n",
       "    <tr>\n",
       "      <th>9995</th>\n",
       "      <td>LASH0211</td>\n",
       "      <td>Silver Sands Oceanfront Motel</td>\n",
       "      <td>3.0</td>\n",
       "      <td>It is hard for me to review an oceanfront hote...</td>\n",
       "    </tr>\n",
       "    <tr>\n",
       "      <th>9996</th>\n",
       "      <td>Gennaker</td>\n",
       "      <td>Sandy Neck Motel</td>\n",
       "      <td>4.0</td>\n",
       "      <td>I live close by, and needed to stay somewhere ...</td>\n",
       "    </tr>\n",
       "    <tr>\n",
       "      <th>9997</th>\n",
       "      <td>Amber406</td>\n",
       "      <td>Shilo Inn Suites - Coeur d'Alene</td>\n",
       "      <td>4.0</td>\n",
       "      <td>Rolled in 11:30 laid out heads down woke up to...</td>\n",
       "    </tr>\n",
       "    <tr>\n",
       "      <th>9998</th>\n",
       "      <td>donWoodbury</td>\n",
       "      <td>Scottish Inn</td>\n",
       "      <td>1.0</td>\n",
       "      <td>Absolutely terrible..I was told I was being gi...</td>\n",
       "    </tr>\n",
       "    <tr>\n",
       "      <th>9999</th>\n",
       "      <td>janezr2013</td>\n",
       "      <td>Royal Suite Lodge</td>\n",
       "      <td>1.0</td>\n",
       "      <td>Filthy, outdated, noisy neighbours, but this w...</td>\n",
       "    </tr>\n",
       "  </tbody>\n",
       "</table>\n",
       "<p>10000 rows × 4 columns</p>\n",
       "</div>"
      ],
      "text/plain": [
       "             user                              item  label  \\\n",
       "0           Paula        Rancho Valencia Resort Spa    5.0   \n",
       "1               D        Rancho Valencia Resort Spa    5.0   \n",
       "2             Ron        Rancho Valencia Resort Spa    5.0   \n",
       "3       jaeem2016               Aloft Arundel Mills    2.0   \n",
       "4      MamaNiaOne               Aloft Arundel Mills    5.0   \n",
       "...           ...                               ...    ...   \n",
       "9995     LASH0211     Silver Sands Oceanfront Motel    3.0   \n",
       "9996     Gennaker                  Sandy Neck Motel    4.0   \n",
       "9997     Amber406  Shilo Inn Suites - Coeur d'Alene    4.0   \n",
       "9998  donWoodbury                      Scottish Inn    1.0   \n",
       "9999   janezr2013                 Royal Suite Lodge    1.0   \n",
       "\n",
       "                                                reviews  \n",
       "0     Our experience at Rancho Valencia was absolute...  \n",
       "1     Amazing place. Everyone was extremely warm and...  \n",
       "2     We booked a 3 night stay at Rancho Valencia to...  \n",
       "3     Currently in bed writing this for the past hr ...  \n",
       "4     I live in Md and the Aloft is my Home away fro...  \n",
       "...                                                 ...  \n",
       "9995  It is hard for me to review an oceanfront hote...  \n",
       "9996  I live close by, and needed to stay somewhere ...  \n",
       "9997  Rolled in 11:30 laid out heads down woke up to...  \n",
       "9998  Absolutely terrible..I was told I was being gi...  \n",
       "9999  Filthy, outdated, noisy neighbours, but this w...  \n",
       "\n",
       "[10000 rows x 4 columns]"
      ]
     },
     "execution_count": 9,
     "metadata": {},
     "output_type": "execute_result"
    }
   ],
   "source": [
    "df1"
   ]
  },
  {
   "cell_type": "markdown",
   "id": "fff8544f",
   "metadata": {},
   "source": [
    "#### Clean and preprocess data"
   ]
  },
  {
   "cell_type": "code",
   "execution_count": 10,
   "id": "2a01fbb4",
   "metadata": {},
   "outputs": [
    {
     "name": "stdout",
     "output_type": "stream",
     "text": [
      "Unique users: 6942\n",
      "Unique items: 1670\n",
      "(10000, 4)\n"
     ]
    }
   ],
   "source": [
    "# Convert user Id and item name to numerical value (starting from 1)\n",
    "show_unique_values(df1)\n",
    "df1 = user_item_to_numeric_val(df1)\n",
    "df1['label'] = df1['label'].astype(int)\n",
    "df1.head(3)\n",
    "print(df1.shape)"
   ]
  },
  {
   "cell_type": "code",
   "execution_count": 11,
   "id": "0323ff50",
   "metadata": {},
   "outputs": [
    {
     "name": "stdout",
     "output_type": "stream",
     "text": [
      "After removing NA rows (9999, 4)\n"
     ]
    }
   ],
   "source": [
    "# remove NA rows\n",
    "df1 = df1.dropna()\n",
    "df1 = df1.reset_index()\n",
    "df1 = df1.drop(columns='index')\n",
    "print(\"After removing NA rows\", df1.shape)"
   ]
  },
  {
   "cell_type": "code",
   "execution_count": 12,
   "id": "ea1dfe57",
   "metadata": {},
   "outputs": [
    {
     "name": "stdout",
     "output_type": "stream",
     "text": [
      "Â¶ª„Å®‰∫åÊ≥ä„Åó„Åæ„Åó„Åü„ÄÇÁ´ãÂú∞„ÇÇËâØ„Åè„ÄÅË¶≥ÂÖâ„Å´‰æøÂà©„Åß„Åó„Åü„ÄÇ„Éõ„ÉÜ„É´„ÅÆÂæìÊ•≠Âì°„ÅÆÊñπ„ÅØÁöÜË¶™Âàá„ÅßËâØ„Åã„Å£„Åü„Åß„Åô„ÄÇÈÉ®Â±ã„ÇÇ„É¢„ÉÄ„É≥„Å™ÊÑü„Åò„ÅßÁ∂∫È∫ó„Åß„Åó„Åü„ÄÇ„ÇØ„É™„Çπ„Éû„Çπ„ÅÆÊó•„ÅØ„ÄÅ„Éõ„ÉÜ„É´„ÅÆ„É¨„Çπ„Éà„É©„É≥„Åß„ÅØÁæéÂë≥„Åó„Åù„ÅÜ„Å™„Éñ„ÉÉ„Éï„Çß„Çí„Åó„Å¶„ÅÑ„Åæ„Åó„Åü„Åå„ÄÅÊÆãÂøµ„Å™„Åå„Çâ„ÄÅ‰∫àÁ¥Ñ„ÅÆ„Å™„ÅÑÊàë„ÄÖ„ÅØ„ÄÅÈ£ü„Åπ„Çå„Åæ„Åõ„Çì„Åß„Åó„Åü„ÄÇ\n",
      "7750\n"
     ]
    }
   ],
   "source": [
    "# remove reviews with non english characters\n",
    "non_eng_list = remove_non_english_rows(df1)\n",
    "df1 = preprocess(df1, non_eng_list)"
   ]
  },
  {
   "cell_type": "code",
   "execution_count": 14,
   "id": "6f4d1181",
   "metadata": {},
   "outputs": [
    {
     "data": {
      "text/html": [
       "<div>\n",
       "<style scoped>\n",
       "    .dataframe tbody tr th:only-of-type {\n",
       "        vertical-align: middle;\n",
       "    }\n",
       "\n",
       "    .dataframe tbody tr th {\n",
       "        vertical-align: top;\n",
       "    }\n",
       "\n",
       "    .dataframe thead th {\n",
       "        text-align: right;\n",
       "    }\n",
       "</style>\n",
       "<table border=\"1\" class=\"dataframe\">\n",
       "  <thead>\n",
       "    <tr style=\"text-align: right;\">\n",
       "      <th></th>\n",
       "      <th>user</th>\n",
       "      <th>item</th>\n",
       "      <th>label</th>\n",
       "      <th>reviews</th>\n",
       "    </tr>\n",
       "  </thead>\n",
       "  <tbody>\n",
       "    <tr>\n",
       "      <th>0</th>\n",
       "      <td>1</td>\n",
       "      <td>1</td>\n",
       "      <td>5</td>\n",
       "      <td>Our experience at Rancho Valencia was absolute...</td>\n",
       "    </tr>\n",
       "    <tr>\n",
       "      <th>1</th>\n",
       "      <td>2</td>\n",
       "      <td>1</td>\n",
       "      <td>5</td>\n",
       "      <td>Amazing place. Everyone was extremely warm and...</td>\n",
       "    </tr>\n",
       "    <tr>\n",
       "      <th>2</th>\n",
       "      <td>3</td>\n",
       "      <td>1</td>\n",
       "      <td>5</td>\n",
       "      <td>We booked a  night stay at Rancho Valencia to ...</td>\n",
       "    </tr>\n",
       "    <tr>\n",
       "      <th>3</th>\n",
       "      <td>4</td>\n",
       "      <td>2</td>\n",
       "      <td>2</td>\n",
       "      <td>Currently in bed writing this for the past hr ...</td>\n",
       "    </tr>\n",
       "    <tr>\n",
       "      <th>4</th>\n",
       "      <td>5</td>\n",
       "      <td>2</td>\n",
       "      <td>5</td>\n",
       "      <td>I live in Md and the Aloft is my Home away fro...</td>\n",
       "    </tr>\n",
       "    <tr>\n",
       "      <th>...</th>\n",
       "      <td>...</td>\n",
       "      <td>...</td>\n",
       "      <td>...</td>\n",
       "      <td>...</td>\n",
       "    </tr>\n",
       "    <tr>\n",
       "      <th>9993</th>\n",
       "      <td>6939</td>\n",
       "      <td>1666</td>\n",
       "      <td>3</td>\n",
       "      <td>It is hard for me to review an oceanfront hote...</td>\n",
       "    </tr>\n",
       "    <tr>\n",
       "      <th>9994</th>\n",
       "      <td>4157</td>\n",
       "      <td>1667</td>\n",
       "      <td>4</td>\n",
       "      <td>I live close by, and needed to stay somewhere ...</td>\n",
       "    </tr>\n",
       "    <tr>\n",
       "      <th>9995</th>\n",
       "      <td>6940</td>\n",
       "      <td>1668</td>\n",
       "      <td>4</td>\n",
       "      <td>Rolled in : laid out heads down woke up to con...</td>\n",
       "    </tr>\n",
       "    <tr>\n",
       "      <th>9996</th>\n",
       "      <td>6941</td>\n",
       "      <td>1669</td>\n",
       "      <td>1</td>\n",
       "      <td>Absolutely terrible..I was told I was being gi...</td>\n",
       "    </tr>\n",
       "    <tr>\n",
       "      <th>9997</th>\n",
       "      <td>6942</td>\n",
       "      <td>1670</td>\n",
       "      <td>1</td>\n",
       "      <td>Filthy, outdated, noisy neighbours, but this w...</td>\n",
       "    </tr>\n",
       "  </tbody>\n",
       "</table>\n",
       "<p>9998 rows × 4 columns</p>\n",
       "</div>"
      ],
      "text/plain": [
       "      user  item  label                                            reviews\n",
       "0        1     1      5  Our experience at Rancho Valencia was absolute...\n",
       "1        2     1      5  Amazing place. Everyone was extremely warm and...\n",
       "2        3     1      5  We booked a  night stay at Rancho Valencia to ...\n",
       "3        4     2      2  Currently in bed writing this for the past hr ...\n",
       "4        5     2      5  I live in Md and the Aloft is my Home away fro...\n",
       "...    ...   ...    ...                                                ...\n",
       "9993  6939  1666      3  It is hard for me to review an oceanfront hote...\n",
       "9994  4157  1667      4  I live close by, and needed to stay somewhere ...\n",
       "9995  6940  1668      4  Rolled in : laid out heads down woke up to con...\n",
       "9996  6941  1669      1  Absolutely terrible..I was told I was being gi...\n",
       "9997  6942  1670      1  Filthy, outdated, noisy neighbours, but this w...\n",
       "\n",
       "[9998 rows x 4 columns]"
      ]
     },
     "execution_count": 14,
     "metadata": {},
     "output_type": "execute_result"
    }
   ],
   "source": [
    "df1"
   ]
  },
  {
   "cell_type": "code",
   "execution_count": 15,
   "id": "7fe3162b",
   "metadata": {},
   "outputs": [],
   "source": [
    "df1.to_csv('datasets/preparation_of_datasets/hotel/new_vader/Preprocessed_Hotel_Reviews_dataset.csv', index=False) "
   ]
  },
  {
   "cell_type": "markdown",
   "id": "7662e404",
   "metadata": {},
   "source": [
    "### Amazon Digital Music Dataset"
   ]
  },
  {
   "cell_type": "code",
   "execution_count": 16,
   "id": "df1b48db",
   "metadata": {},
   "outputs": [],
   "source": [
    "df2 = pd.read_csv(\"datasets/Amazon_Digital_Music.csv\")"
   ]
  },
  {
   "cell_type": "code",
   "execution_count": 17,
   "id": "3456e130",
   "metadata": {},
   "outputs": [
    {
     "data": {
      "text/html": [
       "<div>\n",
       "<style scoped>\n",
       "    .dataframe tbody tr th:only-of-type {\n",
       "        vertical-align: middle;\n",
       "    }\n",
       "\n",
       "    .dataframe tbody tr th {\n",
       "        vertical-align: top;\n",
       "    }\n",
       "\n",
       "    .dataframe thead th {\n",
       "        text-align: right;\n",
       "    }\n",
       "</style>\n",
       "<table border=\"1\" class=\"dataframe\">\n",
       "  <thead>\n",
       "    <tr style=\"text-align: right;\">\n",
       "      <th></th>\n",
       "      <th>reviewerID</th>\n",
       "      <th>asin</th>\n",
       "      <th>reviewerName</th>\n",
       "      <th>helpful</th>\n",
       "      <th>reviewText</th>\n",
       "      <th>overall</th>\n",
       "      <th>summary</th>\n",
       "      <th>unixReviewTime</th>\n",
       "      <th>reviewTime</th>\n",
       "    </tr>\n",
       "  </thead>\n",
       "  <tbody>\n",
       "    <tr>\n",
       "      <th>0</th>\n",
       "      <td>A3EBHHCZO6V2A4</td>\n",
       "      <td>5555991584</td>\n",
       "      <td>Amaranth \"music fan\"</td>\n",
       "      <td>[3, 3]</td>\n",
       "      <td>It's hard to believe \"Memory of Trees\" came ou...</td>\n",
       "      <td>5.0</td>\n",
       "      <td>Enya's last great album</td>\n",
       "      <td>1158019200</td>\n",
       "      <td>09 12, 2006</td>\n",
       "    </tr>\n",
       "    <tr>\n",
       "      <th>1</th>\n",
       "      <td>AZPWAXJG9OJXV</td>\n",
       "      <td>5555991584</td>\n",
       "      <td>bethtexas</td>\n",
       "      <td>[0, 0]</td>\n",
       "      <td>A clasically-styled and introverted album, Mem...</td>\n",
       "      <td>5.0</td>\n",
       "      <td>Enya at her most elegant</td>\n",
       "      <td>991526400</td>\n",
       "      <td>06 3, 2001</td>\n",
       "    </tr>\n",
       "  </tbody>\n",
       "</table>\n",
       "</div>"
      ],
      "text/plain": [
       "       reviewerID        asin          reviewerName helpful  \\\n",
       "0  A3EBHHCZO6V2A4  5555991584  Amaranth \"music fan\"  [3, 3]   \n",
       "1   AZPWAXJG9OJXV  5555991584             bethtexas  [0, 0]   \n",
       "\n",
       "                                          reviewText  overall  \\\n",
       "0  It's hard to believe \"Memory of Trees\" came ou...      5.0   \n",
       "1  A clasically-styled and introverted album, Mem...      5.0   \n",
       "\n",
       "                    summary  unixReviewTime   reviewTime  \n",
       "0   Enya's last great album      1158019200  09 12, 2006  \n",
       "1  Enya at her most elegant       991526400   06 3, 2001  "
      ]
     },
     "execution_count": 17,
     "metadata": {},
     "output_type": "execute_result"
    }
   ],
   "source": [
    "df2.head(2)"
   ]
  },
  {
   "cell_type": "code",
   "execution_count": 18,
   "id": "1e644c7b",
   "metadata": {},
   "outputs": [
    {
     "name": "stdout",
     "output_type": "stream",
     "text": [
      "<class 'pandas.core.frame.DataFrame'>\n",
      "RangeIndex: 64706 entries, 0 to 64705\n",
      "Data columns (total 4 columns):\n",
      " #   Column   Non-Null Count  Dtype  \n",
      "---  ------   --------------  -----  \n",
      " 0   user     64706 non-null  object \n",
      " 1   item     64706 non-null  object \n",
      " 2   label    64706 non-null  float64\n",
      " 3   reviews  64705 non-null  object \n",
      "dtypes: float64(1), object(3)\n",
      "memory usage: 2.0+ MB\n"
     ]
    }
   ],
   "source": [
    "df2 = df2.filter(['reviewerID', 'asin', 'overall', 'reviewText'])\n",
    "df2.rename(columns={\"reviewerID\":\"user\", \"asin\":\"item\", \"overall\": \"label\", \n",
    "                   \"reviewText\":\"reviews\"}, inplace=True)\n",
    "df2.info()"
   ]
  },
  {
   "cell_type": "code",
   "execution_count": 19,
   "id": "fa25430a",
   "metadata": {},
   "outputs": [
    {
     "data": {
      "text/html": [
       "<div>\n",
       "<style scoped>\n",
       "    .dataframe tbody tr th:only-of-type {\n",
       "        vertical-align: middle;\n",
       "    }\n",
       "\n",
       "    .dataframe tbody tr th {\n",
       "        vertical-align: top;\n",
       "    }\n",
       "\n",
       "    .dataframe thead th {\n",
       "        text-align: right;\n",
       "    }\n",
       "</style>\n",
       "<table border=\"1\" class=\"dataframe\">\n",
       "  <thead>\n",
       "    <tr style=\"text-align: right;\">\n",
       "      <th></th>\n",
       "      <th>user</th>\n",
       "      <th>item</th>\n",
       "      <th>label</th>\n",
       "      <th>reviews</th>\n",
       "    </tr>\n",
       "  </thead>\n",
       "  <tbody>\n",
       "    <tr>\n",
       "      <th>0</th>\n",
       "      <td>A3EBHHCZO6V2A4</td>\n",
       "      <td>5555991584</td>\n",
       "      <td>5.0</td>\n",
       "      <td>It's hard to believe \"Memory of Trees\" came ou...</td>\n",
       "    </tr>\n",
       "    <tr>\n",
       "      <th>1</th>\n",
       "      <td>AZPWAXJG9OJXV</td>\n",
       "      <td>5555991584</td>\n",
       "      <td>5.0</td>\n",
       "      <td>A clasically-styled and introverted album, Mem...</td>\n",
       "    </tr>\n",
       "  </tbody>\n",
       "</table>\n",
       "</div>"
      ],
      "text/plain": [
       "             user        item  label  \\\n",
       "0  A3EBHHCZO6V2A4  5555991584    5.0   \n",
       "1   AZPWAXJG9OJXV  5555991584    5.0   \n",
       "\n",
       "                                             reviews  \n",
       "0  It's hard to believe \"Memory of Trees\" came ou...  \n",
       "1  A clasically-styled and introverted album, Mem...  "
      ]
     },
     "execution_count": 19,
     "metadata": {},
     "output_type": "execute_result"
    }
   ],
   "source": [
    "df2.head(2)"
   ]
  },
  {
   "cell_type": "code",
   "execution_count": 20,
   "id": "b37b2f87",
   "metadata": {},
   "outputs": [
    {
     "name": "stdout",
     "output_type": "stream",
     "text": [
      "Unique users: 5541\n",
      "Unique items: 3568\n",
      "(64706, 4)\n"
     ]
    }
   ],
   "source": [
    "# Convert user Id and item name to numerical value (starting from 1)\n",
    "show_unique_values(df2)\n",
    "df2 = user_item_to_numeric_val(df2)\n",
    "df2['label'] = df2['label'].astype(int)\n",
    "df2.head(3)\n",
    "print(df2.shape)"
   ]
  },
  {
   "cell_type": "code",
   "execution_count": 21,
   "id": "fb496b36",
   "metadata": {},
   "outputs": [
    {
     "name": "stdout",
     "output_type": "stream",
     "text": [
      "After removing NA rows (64705, 4)\n"
     ]
    }
   ],
   "source": [
    "# remove NA rows\n",
    "df2 = df2.dropna()\n",
    "df2 = df2.reset_index()\n",
    "df2 = df2.drop(columns='index')\n",
    "print(\"After removing NA rows\", df2.shape)"
   ]
  },
  {
   "cell_type": "code",
   "execution_count": 22,
   "id": "7cb15652",
   "metadata": {},
   "outputs": [
    {
     "data": {
      "text/plain": [
       "(64705, 4)"
      ]
     },
     "execution_count": 22,
     "metadata": {},
     "output_type": "execute_result"
    }
   ],
   "source": [
    "# remove reviews with non english characters\n",
    "non_eng_list = remove_non_english_rows(df2)\n",
    "df2 = preprocess(df2, non_eng_list)\n",
    "df2.shape"
   ]
  },
  {
   "cell_type": "code",
   "execution_count": 23,
   "id": "e6159d9a",
   "metadata": {},
   "outputs": [
    {
     "data": {
      "text/html": [
       "<div>\n",
       "<style scoped>\n",
       "    .dataframe tbody tr th:only-of-type {\n",
       "        vertical-align: middle;\n",
       "    }\n",
       "\n",
       "    .dataframe tbody tr th {\n",
       "        vertical-align: top;\n",
       "    }\n",
       "\n",
       "    .dataframe thead th {\n",
       "        text-align: right;\n",
       "    }\n",
       "</style>\n",
       "<table border=\"1\" class=\"dataframe\">\n",
       "  <thead>\n",
       "    <tr style=\"text-align: right;\">\n",
       "      <th></th>\n",
       "      <th>user</th>\n",
       "      <th>item</th>\n",
       "      <th>label</th>\n",
       "      <th>reviews</th>\n",
       "    </tr>\n",
       "  </thead>\n",
       "  <tbody>\n",
       "    <tr>\n",
       "      <th>0</th>\n",
       "      <td>1</td>\n",
       "      <td>1</td>\n",
       "      <td>5</td>\n",
       "      <td>It's hard to believe \"Memory of Trees\" came ou...</td>\n",
       "    </tr>\n",
       "    <tr>\n",
       "      <th>1</th>\n",
       "      <td>2</td>\n",
       "      <td>1</td>\n",
       "      <td>5</td>\n",
       "      <td>A clasically-styled and introverted album, Mem...</td>\n",
       "    </tr>\n",
       "    <tr>\n",
       "      <th>2</th>\n",
       "      <td>3</td>\n",
       "      <td>1</td>\n",
       "      <td>5</td>\n",
       "      <td>I never thought Enya would reach the sublime h...</td>\n",
       "    </tr>\n",
       "    <tr>\n",
       "      <th>3</th>\n",
       "      <td>4</td>\n",
       "      <td>1</td>\n",
       "      <td>5</td>\n",
       "      <td>This is the third review of an irish album I w...</td>\n",
       "    </tr>\n",
       "  </tbody>\n",
       "</table>\n",
       "</div>"
      ],
      "text/plain": [
       "   user  item  label                                            reviews\n",
       "0     1     1      5  It's hard to believe \"Memory of Trees\" came ou...\n",
       "1     2     1      5  A clasically-styled and introverted album, Mem...\n",
       "2     3     1      5  I never thought Enya would reach the sublime h...\n",
       "3     4     1      5  This is the third review of an irish album I w..."
      ]
     },
     "execution_count": 23,
     "metadata": {},
     "output_type": "execute_result"
    }
   ],
   "source": [
    "df2.head(4)"
   ]
  },
  {
   "cell_type": "code",
   "execution_count": 24,
   "id": "aa4c4fff",
   "metadata": {},
   "outputs": [],
   "source": [
    "df2.to_csv('datasets/preparation_of_datasets/Amazon_Music/new_vader/Preprocessed_Amazon_Music_dataset.csv', index=False) "
   ]
  },
  {
   "cell_type": "code",
   "execution_count": 25,
   "id": "fd8ae97e",
   "metadata": {},
   "outputs": [
    {
     "name": "stdout",
     "output_type": "stream",
     "text": [
      "Unique users: 5541\n",
      "Unique items: 3568\n"
     ]
    }
   ],
   "source": [
    "show_unique_values(df2)"
   ]
  },
  {
   "cell_type": "code",
   "execution_count": null,
   "id": "8f235f5c",
   "metadata": {},
   "outputs": [],
   "source": []
  },
  {
   "cell_type": "markdown",
   "id": "287e7f50",
   "metadata": {},
   "source": [
    "### Amazon Video Games Dataset"
   ]
  },
  {
   "cell_type": "code",
   "execution_count": 26,
   "id": "c2c828f9",
   "metadata": {},
   "outputs": [],
   "source": [
    "df3 = pd.read_csv(\"datasets/Amazon_Video_Games.csv\")"
   ]
  },
  {
   "cell_type": "code",
   "execution_count": 27,
   "id": "36fcd4a1",
   "metadata": {},
   "outputs": [
    {
     "data": {
      "text/html": [
       "<div>\n",
       "<style scoped>\n",
       "    .dataframe tbody tr th:only-of-type {\n",
       "        vertical-align: middle;\n",
       "    }\n",
       "\n",
       "    .dataframe tbody tr th {\n",
       "        vertical-align: top;\n",
       "    }\n",
       "\n",
       "    .dataframe thead th {\n",
       "        text-align: right;\n",
       "    }\n",
       "</style>\n",
       "<table border=\"1\" class=\"dataframe\">\n",
       "  <thead>\n",
       "    <tr style=\"text-align: right;\">\n",
       "      <th></th>\n",
       "      <th>reviewerID</th>\n",
       "      <th>asin</th>\n",
       "      <th>reviewerName</th>\n",
       "      <th>helpful</th>\n",
       "      <th>reviewText</th>\n",
       "      <th>overall</th>\n",
       "      <th>summary</th>\n",
       "      <th>unixReviewTime</th>\n",
       "      <th>reviewTime</th>\n",
       "    </tr>\n",
       "  </thead>\n",
       "  <tbody>\n",
       "    <tr>\n",
       "      <th>0</th>\n",
       "      <td>A2HD75EMZR8QLN</td>\n",
       "      <td>0700099867</td>\n",
       "      <td>123</td>\n",
       "      <td>[8, 12]</td>\n",
       "      <td>Installing the game was a struggle (because of...</td>\n",
       "      <td>1.0</td>\n",
       "      <td>Pay to unlock content? I don't think so.</td>\n",
       "      <td>1341792000</td>\n",
       "      <td>07 9, 2012</td>\n",
       "    </tr>\n",
       "    <tr>\n",
       "      <th>1</th>\n",
       "      <td>A3UR8NLLY1ZHCX</td>\n",
       "      <td>0700099867</td>\n",
       "      <td>Alejandro Henao \"Electronic Junky\"</td>\n",
       "      <td>[0, 0]</td>\n",
       "      <td>If you like rally cars get this game you will ...</td>\n",
       "      <td>4.0</td>\n",
       "      <td>Good rally game</td>\n",
       "      <td>1372550400</td>\n",
       "      <td>06 30, 2013</td>\n",
       "    </tr>\n",
       "  </tbody>\n",
       "</table>\n",
       "</div>"
      ],
      "text/plain": [
       "       reviewerID        asin                        reviewerName  helpful  \\\n",
       "0  A2HD75EMZR8QLN  0700099867                                 123  [8, 12]   \n",
       "1  A3UR8NLLY1ZHCX  0700099867  Alejandro Henao \"Electronic Junky\"   [0, 0]   \n",
       "\n",
       "                                          reviewText  overall  \\\n",
       "0  Installing the game was a struggle (because of...      1.0   \n",
       "1  If you like rally cars get this game you will ...      4.0   \n",
       "\n",
       "                                    summary  unixReviewTime   reviewTime  \n",
       "0  Pay to unlock content? I don't think so.      1341792000   07 9, 2012  \n",
       "1                           Good rally game      1372550400  06 30, 2013  "
      ]
     },
     "execution_count": 27,
     "metadata": {},
     "output_type": "execute_result"
    }
   ],
   "source": [
    "df3.head(2)"
   ]
  },
  {
   "cell_type": "code",
   "execution_count": 28,
   "id": "9a5430c0",
   "metadata": {},
   "outputs": [
    {
     "name": "stdout",
     "output_type": "stream",
     "text": [
      "<class 'pandas.core.frame.DataFrame'>\n",
      "RangeIndex: 231780 entries, 0 to 231779\n",
      "Data columns (total 4 columns):\n",
      " #   Column   Non-Null Count   Dtype  \n",
      "---  ------   --------------   -----  \n",
      " 0   user     231780 non-null  object \n",
      " 1   item     231780 non-null  object \n",
      " 2   label    231780 non-null  float64\n",
      " 3   reviews  231736 non-null  object \n",
      "dtypes: float64(1), object(3)\n",
      "memory usage: 7.1+ MB\n"
     ]
    }
   ],
   "source": [
    "df3 = df3.filter(['reviewerID', 'asin', 'overall', 'reviewText'])\n",
    "df3.rename(columns={\"reviewerID\":\"user\", \"asin\":\"item\", \"overall\": \"label\", \n",
    "                   \"reviewText\":\"reviews\"}, inplace=True)\n",
    "df3.info()"
   ]
  },
  {
   "cell_type": "code",
   "execution_count": 29,
   "id": "02b8b23e",
   "metadata": {},
   "outputs": [
    {
     "data": {
      "text/html": [
       "<div>\n",
       "<style scoped>\n",
       "    .dataframe tbody tr th:only-of-type {\n",
       "        vertical-align: middle;\n",
       "    }\n",
       "\n",
       "    .dataframe tbody tr th {\n",
       "        vertical-align: top;\n",
       "    }\n",
       "\n",
       "    .dataframe thead th {\n",
       "        text-align: right;\n",
       "    }\n",
       "</style>\n",
       "<table border=\"1\" class=\"dataframe\">\n",
       "  <thead>\n",
       "    <tr style=\"text-align: right;\">\n",
       "      <th></th>\n",
       "      <th>user</th>\n",
       "      <th>item</th>\n",
       "      <th>label</th>\n",
       "      <th>reviews</th>\n",
       "    </tr>\n",
       "  </thead>\n",
       "  <tbody>\n",
       "    <tr>\n",
       "      <th>0</th>\n",
       "      <td>A2HD75EMZR8QLN</td>\n",
       "      <td>0700099867</td>\n",
       "      <td>1.0</td>\n",
       "      <td>Installing the game was a struggle (because of...</td>\n",
       "    </tr>\n",
       "    <tr>\n",
       "      <th>1</th>\n",
       "      <td>A3UR8NLLY1ZHCX</td>\n",
       "      <td>0700099867</td>\n",
       "      <td>4.0</td>\n",
       "      <td>If you like rally cars get this game you will ...</td>\n",
       "    </tr>\n",
       "  </tbody>\n",
       "</table>\n",
       "</div>"
      ],
      "text/plain": [
       "             user        item  label  \\\n",
       "0  A2HD75EMZR8QLN  0700099867    1.0   \n",
       "1  A3UR8NLLY1ZHCX  0700099867    4.0   \n",
       "\n",
       "                                             reviews  \n",
       "0  Installing the game was a struggle (because of...  \n",
       "1  If you like rally cars get this game you will ...  "
      ]
     },
     "execution_count": 29,
     "metadata": {},
     "output_type": "execute_result"
    }
   ],
   "source": [
    "df3.head(2)"
   ]
  },
  {
   "cell_type": "code",
   "execution_count": 30,
   "id": "d39ef417",
   "metadata": {},
   "outputs": [
    {
     "name": "stdout",
     "output_type": "stream",
     "text": [
      "Unique users: 24303\n",
      "Unique items: 10672\n",
      "(231780, 4)\n"
     ]
    }
   ],
   "source": [
    "# Convert user Id and item name to numerical value (starting from 1)\n",
    "show_unique_values(df3)\n",
    "df3 = user_item_to_numeric_val(df3)\n",
    "df3['label'] = df3['label'].astype(int)\n",
    "df3.head(3)\n",
    "print(df3.shape)"
   ]
  },
  {
   "cell_type": "code",
   "execution_count": 31,
   "id": "4904fb62",
   "metadata": {},
   "outputs": [
    {
     "name": "stdout",
     "output_type": "stream",
     "text": [
      "After removing NA rows (231736, 4)\n"
     ]
    }
   ],
   "source": [
    "# remove NA rows\n",
    "df3 = df3.dropna()\n",
    "df3 = df3.reset_index()\n",
    "df3 = df3.drop(columns='index')\n",
    "print(\"After removing NA rows\", df3.shape)"
   ]
  },
  {
   "cell_type": "code",
   "execution_count": null,
   "id": "7fc923f6",
   "metadata": {},
   "outputs": [],
   "source": []
  },
  {
   "cell_type": "code",
   "execution_count": 32,
   "id": "74a22a1f",
   "metadata": {},
   "outputs": [
    {
     "name": "stdout",
     "output_type": "stream",
     "text": [
      "[]\n"
     ]
    },
    {
     "data": {
      "text/plain": [
       "(231736, 4)"
      ]
     },
     "execution_count": 32,
     "metadata": {},
     "output_type": "execute_result"
    }
   ],
   "source": [
    "# remove reviews with non english characters\n",
    "non_eng_list = remove_non_english_rows(df3)\n",
    "print(non_eng_list)\n",
    "df3 = preprocess(df3, non_eng_list)\n",
    "df3.shape"
   ]
  },
  {
   "cell_type": "code",
   "execution_count": 33,
   "id": "c86a93f8",
   "metadata": {},
   "outputs": [],
   "source": [
    "df3.to_csv('datasets/preparation_of_datasets/Amazon_Video_Games/new_vader/Preprocessed_Amazon_Video_Games.csv', index=False)"
   ]
  },
  {
   "cell_type": "code",
   "execution_count": 34,
   "id": "60e72594",
   "metadata": {},
   "outputs": [
    {
     "name": "stdout",
     "output_type": "stream",
     "text": [
      "Unique users: 24303\n",
      "Unique items: 10672\n"
     ]
    }
   ],
   "source": [
    "show_unique_values(df3)"
   ]
  },
  {
   "cell_type": "code",
   "execution_count": 42,
   "id": "e5c1ca74",
   "metadata": {},
   "outputs": [
    {
     "name": "stdout",
     "output_type": "stream",
     "text": [
      "Collecting numba\n",
      "  Downloading numba-0.55.1-cp37-cp37m-win_amd64.whl (2.4 MB)\n",
      "Collecting llvmlite<0.39,>=0.38.0rc1\n",
      "  Downloading llvmlite-0.38.1-cp37-cp37m-win_amd64.whl (23.2 MB)\n",
      "Requirement already satisfied: numpy<1.22,>=1.18 in c:\\users\\vandana\\anaconda3\\envs\\py37\\lib\\site-packages (from numba) (1.21.6)\n",
      "Requirement already satisfied: setuptools in c:\\users\\vandana\\anaconda3\\envs\\py37\\lib\\site-packages (from numba) (61.2.0)\n",
      "Installing collected packages: llvmlite, numba\n",
      "Successfully installed llvmlite-0.38.1 numba-0.55.1\n",
      "Note: you may need to restart the kernel to use updated packages.\n"
     ]
    }
   ],
   "source": [
    "pip install numba"
   ]
  },
  {
   "cell_type": "code",
   "execution_count": null,
   "id": "6d1d5a8a",
   "metadata": {},
   "outputs": [],
   "source": []
  }
 ],
 "metadata": {
  "kernelspec": {
   "display_name": "Python 3 (ipykernel)",
   "language": "python",
   "name": "python3"
  },
  "language_info": {
   "codemirror_mode": {
    "name": "ipython",
    "version": 3
   },
   "file_extension": ".py",
   "mimetype": "text/x-python",
   "name": "python",
   "nbconvert_exporter": "python",
   "pygments_lexer": "ipython3",
   "version": "3.7.11"
  }
 },
 "nbformat": 4,
 "nbformat_minor": 5
}
