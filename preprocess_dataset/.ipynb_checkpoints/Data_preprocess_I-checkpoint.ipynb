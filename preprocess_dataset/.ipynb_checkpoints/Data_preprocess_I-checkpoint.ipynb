{
 "cells": [
  {
   "cell_type": "code",
   "execution_count": 1,
   "id": "fbb61d50",
   "metadata": {},
   "outputs": [],
   "source": [
    "import pandas as pd"
   ]
  },
  {
   "cell_type": "code",
   "execution_count": 28,
   "id": "4eda2312",
   "metadata": {},
   "outputs": [],
   "source": [
    "df = pd.read_csv('datasets/Datafiniti_Hotel_Reviews.csv')"
   ]
  },
  {
   "cell_type": "code",
   "execution_count": 29,
   "id": "6285f879",
   "metadata": {},
   "outputs": [
    {
     "name": "stdout",
     "output_type": "stream",
     "text": [
      "<class 'pandas.core.frame.DataFrame'>\n",
      "RangeIndex: 10000 entries, 0 to 9999\n",
      "Data columns (total 25 columns):\n",
      " #   Column                Non-Null Count  Dtype  \n",
      "---  ------                --------------  -----  \n",
      " 0   id                    10000 non-null  object \n",
      " 1   dateAdded             10000 non-null  object \n",
      " 2   dateUpdated           10000 non-null  object \n",
      " 3   address               10000 non-null  object \n",
      " 4   categories            10000 non-null  object \n",
      " 5   primaryCategories     10000 non-null  object \n",
      " 6   city                  10000 non-null  object \n",
      " 7   country               10000 non-null  object \n",
      " 8   keys                  10000 non-null  object \n",
      " 9   latitude              10000 non-null  float64\n",
      " 10  longitude             10000 non-null  float64\n",
      " 11  name                  10000 non-null  object \n",
      " 12  postalCode            10000 non-null  object \n",
      " 13  province              10000 non-null  object \n",
      " 14  reviews.date          10000 non-null  object \n",
      " 15  reviews.dateSeen      10000 non-null  object \n",
      " 16  reviews.rating        10000 non-null  float64\n",
      " 17  reviews.sourceURLs    10000 non-null  object \n",
      " 18  reviews.text          9999 non-null   object \n",
      " 19  reviews.title         9999 non-null   object \n",
      " 20  reviews.userCity      4164 non-null   object \n",
      " 21  reviews.userProvince  2705 non-null   object \n",
      " 22  reviews.username      10000 non-null  object \n",
      " 23  sourceURLs            10000 non-null  object \n",
      " 24  websites              10000 non-null  object \n",
      "dtypes: float64(3), object(22)\n",
      "memory usage: 1.9+ MB\n"
     ]
    }
   ],
   "source": [
    "df.info()"
   ]
  },
  {
   "cell_type": "markdown",
   "id": "ea28157e",
   "metadata": {},
   "source": [
    "#### Choose specific fields"
   ]
  },
  {
   "cell_type": "code",
   "execution_count": 30,
   "id": "1e967e6b",
   "metadata": {},
   "outputs": [],
   "source": [
    "df = df.filter(['reviews.username', 'name', 'reviews.rating', 'reviews.text'])\n",
    "df.rename(columns={\"reviews.username\":\"user\", \"name\":\"item\", \"reviews.rating\": \"label\", \n",
    "                   \"reviews.text\":\"reviews\", \"reviews.title\":\"reviews_title\"}, inplace=True)"
   ]
  },
  {
   "cell_type": "code",
   "execution_count": 31,
   "id": "b3fcc913",
   "metadata": {},
   "outputs": [
    {
     "data": {
      "text/html": [
       "<div>\n",
       "<style scoped>\n",
       "    .dataframe tbody tr th:only-of-type {\n",
       "        vertical-align: middle;\n",
       "    }\n",
       "\n",
       "    .dataframe tbody tr th {\n",
       "        vertical-align: top;\n",
       "    }\n",
       "\n",
       "    .dataframe thead th {\n",
       "        text-align: right;\n",
       "    }\n",
       "</style>\n",
       "<table border=\"1\" class=\"dataframe\">\n",
       "  <thead>\n",
       "    <tr style=\"text-align: right;\">\n",
       "      <th></th>\n",
       "      <th>user</th>\n",
       "      <th>item</th>\n",
       "      <th>label</th>\n",
       "      <th>reviews</th>\n",
       "    </tr>\n",
       "  </thead>\n",
       "  <tbody>\n",
       "    <tr>\n",
       "      <th>0</th>\n",
       "      <td>Paula</td>\n",
       "      <td>Rancho Valencia Resort Spa</td>\n",
       "      <td>5.0</td>\n",
       "      <td>Our experience at Rancho Valencia was absolute...</td>\n",
       "    </tr>\n",
       "    <tr>\n",
       "      <th>1</th>\n",
       "      <td>D</td>\n",
       "      <td>Rancho Valencia Resort Spa</td>\n",
       "      <td>5.0</td>\n",
       "      <td>Amazing place. Everyone was extremely warm and...</td>\n",
       "    </tr>\n",
       "  </tbody>\n",
       "</table>\n",
       "</div>"
      ],
      "text/plain": [
       "    user                        item  label  \\\n",
       "0  Paula  Rancho Valencia Resort Spa    5.0   \n",
       "1      D  Rancho Valencia Resort Spa    5.0   \n",
       "\n",
       "                                             reviews  \n",
       "0  Our experience at Rancho Valencia was absolute...  \n",
       "1  Amazing place. Everyone was extremely warm and...  "
      ]
     },
     "execution_count": 31,
     "metadata": {},
     "output_type": "execute_result"
    }
   ],
   "source": [
    "df.head(2)"
   ]
  },
  {
   "cell_type": "code",
   "execution_count": 32,
   "id": "930e9cd7",
   "metadata": {},
   "outputs": [
    {
     "name": "stdout",
     "output_type": "stream",
     "text": [
      "<class 'pandas.core.frame.DataFrame'>\n",
      "RangeIndex: 10000 entries, 0 to 9999\n",
      "Data columns (total 4 columns):\n",
      " #   Column   Non-Null Count  Dtype  \n",
      "---  ------   --------------  -----  \n",
      " 0   user     10000 non-null  object \n",
      " 1   item     10000 non-null  object \n",
      " 2   label    10000 non-null  float64\n",
      " 3   reviews  9999 non-null   object \n",
      "dtypes: float64(1), object(3)\n",
      "memory usage: 312.6+ KB\n"
     ]
    }
   ],
   "source": [
    "df.info()"
   ]
  },
  {
   "cell_type": "markdown",
   "id": "41c4a88a",
   "metadata": {},
   "source": [
    "#### convert user Id and item name to numerical value (starting from 1)"
   ]
  },
  {
   "cell_type": "code",
   "execution_count": 33,
   "id": "e4e22c32",
   "metadata": {},
   "outputs": [
    {
     "name": "stdout",
     "output_type": "stream",
     "text": [
      "Unique users: 6942\n",
      "Unique items: 1670\n"
     ]
    }
   ],
   "source": [
    "unique_users = df['user'].unique()\n",
    "unique_items = df['item'].unique()\n",
    "print(\"Unique users:\", len(unique_users))\n",
    "print(\"Unique items:\", len(unique_items))"
   ]
  },
  {
   "cell_type": "code",
   "execution_count": 36,
   "id": "eb765e40",
   "metadata": {},
   "outputs": [],
   "source": [
    "import numpy as np\n",
    "user_dict = {}\n",
    "all_users = np.arange(1,len(unique_users)+1).tolist()\n",
    "\n",
    "for i in range(len(unique_users)):\n",
    "    user_dict[unique_users[i]] = all_users[i]\n",
    "\n",
    "df[\"user\"] = df[\"user\"].map(user_dict)"
   ]
  },
  {
   "cell_type": "code",
   "execution_count": 39,
   "id": "62308961",
   "metadata": {},
   "outputs": [],
   "source": [
    "item_dict = {}\n",
    "all_items = np.arange(1,len(unique_items)+1).tolist()\n",
    "for i in range(len(unique_items)):\n",
    "    item_dict[unique_items[i]] = all_items[i]"
   ]
  },
  {
   "cell_type": "code",
   "execution_count": 40,
   "id": "e0ae567c",
   "metadata": {},
   "outputs": [],
   "source": [
    "df[\"item\"] = df[\"item\"].map(item_dict)"
   ]
  },
  {
   "cell_type": "code",
   "execution_count": 41,
   "id": "df02f251",
   "metadata": {},
   "outputs": [
    {
     "data": {
      "text/html": [
       "<div>\n",
       "<style scoped>\n",
       "    .dataframe tbody tr th:only-of-type {\n",
       "        vertical-align: middle;\n",
       "    }\n",
       "\n",
       "    .dataframe tbody tr th {\n",
       "        vertical-align: top;\n",
       "    }\n",
       "\n",
       "    .dataframe thead th {\n",
       "        text-align: right;\n",
       "    }\n",
       "</style>\n",
       "<table border=\"1\" class=\"dataframe\">\n",
       "  <thead>\n",
       "    <tr style=\"text-align: right;\">\n",
       "      <th></th>\n",
       "      <th>user</th>\n",
       "      <th>item</th>\n",
       "      <th>label</th>\n",
       "      <th>reviews</th>\n",
       "    </tr>\n",
       "  </thead>\n",
       "  <tbody>\n",
       "    <tr>\n",
       "      <th>0</th>\n",
       "      <td>1</td>\n",
       "      <td>1</td>\n",
       "      <td>5.0</td>\n",
       "      <td>Our experience at Rancho Valencia was absolute...</td>\n",
       "    </tr>\n",
       "    <tr>\n",
       "      <th>1</th>\n",
       "      <td>2</td>\n",
       "      <td>1</td>\n",
       "      <td>5.0</td>\n",
       "      <td>Amazing place. Everyone was extremely warm and...</td>\n",
       "    </tr>\n",
       "    <tr>\n",
       "      <th>2</th>\n",
       "      <td>3</td>\n",
       "      <td>1</td>\n",
       "      <td>5.0</td>\n",
       "      <td>We booked a 3 night stay at Rancho Valencia to...</td>\n",
       "    </tr>\n",
       "    <tr>\n",
       "      <th>3</th>\n",
       "      <td>4</td>\n",
       "      <td>2</td>\n",
       "      <td>2.0</td>\n",
       "      <td>Currently in bed writing this for the past hr ...</td>\n",
       "    </tr>\n",
       "    <tr>\n",
       "      <th>4</th>\n",
       "      <td>5</td>\n",
       "      <td>2</td>\n",
       "      <td>5.0</td>\n",
       "      <td>I live in Md and the Aloft is my Home away fro...</td>\n",
       "    </tr>\n",
       "    <tr>\n",
       "      <th>...</th>\n",
       "      <td>...</td>\n",
       "      <td>...</td>\n",
       "      <td>...</td>\n",
       "      <td>...</td>\n",
       "    </tr>\n",
       "    <tr>\n",
       "      <th>9995</th>\n",
       "      <td>6939</td>\n",
       "      <td>1666</td>\n",
       "      <td>3.0</td>\n",
       "      <td>It is hard for me to review an oceanfront hote...</td>\n",
       "    </tr>\n",
       "    <tr>\n",
       "      <th>9996</th>\n",
       "      <td>4157</td>\n",
       "      <td>1667</td>\n",
       "      <td>4.0</td>\n",
       "      <td>I live close by, and needed to stay somewhere ...</td>\n",
       "    </tr>\n",
       "    <tr>\n",
       "      <th>9997</th>\n",
       "      <td>6940</td>\n",
       "      <td>1668</td>\n",
       "      <td>4.0</td>\n",
       "      <td>Rolled in 11:30 laid out heads down woke up to...</td>\n",
       "    </tr>\n",
       "    <tr>\n",
       "      <th>9998</th>\n",
       "      <td>6941</td>\n",
       "      <td>1669</td>\n",
       "      <td>1.0</td>\n",
       "      <td>Absolutely terrible..I was told I was being gi...</td>\n",
       "    </tr>\n",
       "    <tr>\n",
       "      <th>9999</th>\n",
       "      <td>6942</td>\n",
       "      <td>1670</td>\n",
       "      <td>1.0</td>\n",
       "      <td>Filthy, outdated, noisy neighbours, but this w...</td>\n",
       "    </tr>\n",
       "  </tbody>\n",
       "</table>\n",
       "<p>10000 rows × 4 columns</p>\n",
       "</div>"
      ],
      "text/plain": [
       "      user  item  label                                            reviews\n",
       "0        1     1    5.0  Our experience at Rancho Valencia was absolute...\n",
       "1        2     1    5.0  Amazing place. Everyone was extremely warm and...\n",
       "2        3     1    5.0  We booked a 3 night stay at Rancho Valencia to...\n",
       "3        4     2    2.0  Currently in bed writing this for the past hr ...\n",
       "4        5     2    5.0  I live in Md and the Aloft is my Home away fro...\n",
       "...    ...   ...    ...                                                ...\n",
       "9995  6939  1666    3.0  It is hard for me to review an oceanfront hote...\n",
       "9996  4157  1667    4.0  I live close by, and needed to stay somewhere ...\n",
       "9997  6940  1668    4.0  Rolled in 11:30 laid out heads down woke up to...\n",
       "9998  6941  1669    1.0  Absolutely terrible..I was told I was being gi...\n",
       "9999  6942  1670    1.0  Filthy, outdated, noisy neighbours, but this w...\n",
       "\n",
       "[10000 rows x 4 columns]"
      ]
     },
     "execution_count": 41,
     "metadata": {},
     "output_type": "execute_result"
    }
   ],
   "source": [
    "df"
   ]
  },
  {
   "cell_type": "code",
   "execution_count": null,
   "id": "eb2a9015",
   "metadata": {},
   "outputs": [],
   "source": []
  },
  {
   "cell_type": "code",
   "execution_count": null,
   "id": "2720d365",
   "metadata": {},
   "outputs": [],
   "source": []
  },
  {
   "cell_type": "code",
   "execution_count": 12,
   "id": "615b4b8c",
   "metadata": {},
   "outputs": [
    {
     "name": "stderr",
     "output_type": "stream",
     "text": [
      "C:\\Users\\Vandana\\AppData\\Roaming\\Python\\Python37\\site-packages\\pandas\\core\\indexing.py:1732: SettingWithCopyWarning: \n",
      "A value is trying to be set on a copy of a slice from a DataFrame\n",
      "\n",
      "See the caveats in the documentation: https://pandas.pydata.org/pandas-docs/stable/user_guide/indexing.html#returning-a-view-versus-a-copy\n",
      "  self._setitem_single_block(indexer, value, name)\n"
     ]
    }
   ],
   "source": [
    "# for users:\n",
    "for i in range(len(df)):\n",
    "    for j in range(len(unique_users)):\n",
    "        if df['user'].iloc[i] == unique_users[j]:\n",
    "            df['user'].iloc[i] = j+1"
   ]
  },
  {
   "cell_type": "code",
   "execution_count": 13,
   "id": "b3490457",
   "metadata": {},
   "outputs": [
    {
     "name": "stdout",
     "output_type": "stream",
     "text": [
      "(10000, 4)\n"
     ]
    }
   ],
   "source": [
    "df.head(3)\n",
    "print(df.shape)"
   ]
  },
  {
   "cell_type": "code",
   "execution_count": 14,
   "id": "9c3f916c",
   "metadata": {},
   "outputs": [],
   "source": [
    "# for items:\n",
    "for i in range(len(df)):\n",
    "    for j in range(len(unique_items)):\n",
    "        if df['item'].iloc[i] == unique_items[j]:\n",
    "            df['item'].iloc[i] = j+1"
   ]
  },
  {
   "cell_type": "code",
   "execution_count": 15,
   "id": "d460a034",
   "metadata": {},
   "outputs": [
    {
     "name": "stdout",
     "output_type": "stream",
     "text": [
      "(10000, 4)\n"
     ]
    }
   ],
   "source": [
    "df.head(3)\n",
    "print(df.shape)"
   ]
  },
  {
   "cell_type": "code",
   "execution_count": 16,
   "id": "eebb17c6",
   "metadata": {},
   "outputs": [
    {
     "name": "stdout",
     "output_type": "stream",
     "text": [
      "<class 'pandas.core.frame.DataFrame'>\n",
      "RangeIndex: 10000 entries, 0 to 9999\n",
      "Data columns (total 4 columns):\n",
      " #   Column   Non-Null Count  Dtype  \n",
      "---  ------   --------------  -----  \n",
      " 0   user     10000 non-null  object \n",
      " 1   item     10000 non-null  object \n",
      " 2   label    10000 non-null  float64\n",
      " 3   reviews  9999 non-null   object \n",
      "dtypes: float64(1), object(3)\n",
      "memory usage: 312.6+ KB\n"
     ]
    }
   ],
   "source": [
    "df.info()"
   ]
  },
  {
   "cell_type": "code",
   "execution_count": 18,
   "id": "ec90aa47",
   "metadata": {},
   "outputs": [],
   "source": [
    "df['label'] = df['label'].astype(int)\n",
    "df_reviews = df.copy()"
   ]
  },
  {
   "cell_type": "code",
   "execution_count": 19,
   "id": "d800b717",
   "metadata": {},
   "outputs": [],
   "source": [
    "df.to_csv('datasets/preparation_of_datasets/hotel/Hotel_Reviews_dataset_I.csv', index=False)"
   ]
  },
  {
   "cell_type": "code",
   "execution_count": 13,
   "id": "59fdcc8d",
   "metadata": {},
   "outputs": [],
   "source": [
    "##############################################################"
   ]
  },
  {
   "cell_type": "code",
   "execution_count": null,
   "id": "d49fb3b1",
   "metadata": {},
   "outputs": [],
   "source": [
    "df = pd.read_csv('datasets/preparation_of_datasets/hotel/Hotel_Reviews_dataset_I.csv', header=0)\n",
    "print(df.shape)"
   ]
  },
  {
   "cell_type": "code",
   "execution_count": null,
   "id": "162749a6",
   "metadata": {},
   "outputs": [],
   "source": [
    "df = df.dropna()\n",
    "print(df.shape)\n",
    "\n",
    "df = df.reset_index()\n",
    "df = df.drop(columns='index')\n",
    "\n",
    "df_reviews = df.copy()"
   ]
  },
  {
   "cell_type": "code",
   "execution_count": null,
   "id": "e2429d55",
   "metadata": {},
   "outputs": [],
   "source": [
    "def decontract(phrase):\n",
    "    phrase = re.sub(r\"[c|C]an\\'t\", \"can not\", phrase)\n",
    "    phrase = re.sub(r\"[w|W]on\\'t\", \"will not\", phrase)\n",
    "    \n",
    "    phrase = re.sub(r\"n\\'t\", \" not\", phrase)\n",
    "    return phrase"
   ]
  },
  {
   "cell_type": "code",
   "execution_count": null,
   "id": "00066043",
   "metadata": {},
   "outputs": [],
   "source": [
    "for i in range(len(df)):\n",
    "    if 'Â' in df['reviews'].iloc[i]:\n",
    "        print(df['reviews'].iloc[i])\n",
    "        print(i)\n",
    "# not checked for alpha numeric words yet\n",
    "# as of now remove 7750 row"
   ]
  },
  {
   "cell_type": "code",
   "execution_count": null,
   "id": "245a7a4b",
   "metadata": {},
   "outputs": [],
   "source": [
    "for i in range(len(df)):\n",
    "    df['reviews'].iloc[i] = decontract(df['reviews'].iloc[i])\n",
    "    #df['reviews'].iloc[i] = df['reviews'].iloc[i].translate(str.maketrans('', '', string.punctuation))\n",
    "    df['reviews'].iloc[i] = re.sub('[0-9]','', df['reviews'].iloc[i])\n",
    "df = df.drop(7750) \n",
    "df = df.reset_index()\n",
    "df = df.drop(columns=['index'])"
   ]
  },
  {
   "cell_type": "code",
   "execution_count": null,
   "id": "3d286679",
   "metadata": {},
   "outputs": [],
   "source": [
    "df.shape"
   ]
  },
  {
   "cell_type": "code",
   "execution_count": null,
   "id": "8fcba520",
   "metadata": {},
   "outputs": [],
   "source": [
    "is_NaN = df.isnull()\n",
    "row_has_NaN = is_NaN.any(axis=1)\n",
    "rows_with_NaN = df[row_has_NaN]"
   ]
  },
  {
   "cell_type": "code",
   "execution_count": null,
   "id": "54231f77",
   "metadata": {},
   "outputs": [],
   "source": [
    "rows_with_NaN"
   ]
  },
  {
   "cell_type": "code",
   "execution_count": null,
   "id": "a6f8fb3f",
   "metadata": {},
   "outputs": [],
   "source": [
    "df.to_csv('datasets/preparation_of_datasets/hotel/Hotel_Reviews_dataset_II.csv', index=False) "
   ]
  },
  {
   "cell_type": "code",
   "execution_count": null,
   "id": "d36d0596",
   "metadata": {},
   "outputs": [],
   "source": [
    "pd.read()"
   ]
  },
  {
   "cell_type": "code",
   "execution_count": null,
   "id": "b33053f5",
   "metadata": {},
   "outputs": [],
   "source": []
  },
  {
   "cell_type": "code",
   "execution_count": null,
   "id": "a4f9b200",
   "metadata": {},
   "outputs": [],
   "source": []
  },
  {
   "cell_type": "code",
   "execution_count": null,
   "id": "f6260398",
   "metadata": {},
   "outputs": [],
   "source": []
  }
 ],
 "metadata": {
  "kernelspec": {
   "display_name": "Python 3 (ipykernel)",
   "language": "python",
   "name": "python3"
  },
  "language_info": {
   "codemirror_mode": {
    "name": "ipython",
    "version": 3
   },
   "file_extension": ".py",
   "mimetype": "text/x-python",
   "name": "python",
   "nbconvert_exporter": "python",
   "pygments_lexer": "ipython3",
   "version": "3.7.11"
  }
 },
 "nbformat": 4,
 "nbformat_minor": 5
}
