{
 "cells": [
  {
   "cell_type": "code",
   "execution_count": 14,
   "id": "5c4dbb90",
   "metadata": {},
   "outputs": [],
   "source": [
    "from textblob import TextBlob\n",
    "import numpy as np\n",
    "import pandas as pd\n",
    "import matplotlib.pyplot as plt\n",
    "import seaborn as sns \n",
    "from scipy.stats import pearsonr"
   ]
  },
  {
   "cell_type": "code",
   "execution_count": 15,
   "id": "a4d31e55",
   "metadata": {},
   "outputs": [],
   "source": [
    "def get_sentiment(input_text):\n",
    "    blob = TextBlob(input_text)\n",
    "    return blob.sentiment.polarity"
   ]
  },
  {
   "cell_type": "code",
   "execution_count": 16,
   "id": "813fea12",
   "metadata": {},
   "outputs": [],
   "source": [
    "def get_senti_list(df):\n",
    "    senti_reviews_list = []\n",
    "    for i in range(len(df)):\n",
    "        senti_reviews_list.append(get_sentiment(str(df['reviews'][i])))       \n",
    "    return senti_reviews_list"
   ]
  },
  {
   "cell_type": "code",
   "execution_count": 17,
   "id": "03021b7f",
   "metadata": {},
   "outputs": [],
   "source": [
    "def correlation_between_variables(x,y):\n",
    "    corr, p_val = pearsonr(x,y)\n",
    "    return corr, p_val"
   ]
  },
  {
   "cell_type": "code",
   "execution_count": 11,
   "id": "19bdc6ee",
   "metadata": {},
   "outputs": [
    {
     "data": {
      "text/html": [
       "<div>\n",
       "<style scoped>\n",
       "    .dataframe tbody tr th:only-of-type {\n",
       "        vertical-align: middle;\n",
       "    }\n",
       "\n",
       "    .dataframe tbody tr th {\n",
       "        vertical-align: top;\n",
       "    }\n",
       "\n",
       "    .dataframe thead th {\n",
       "        text-align: right;\n",
       "    }\n",
       "</style>\n",
       "<table border=\"1\" class=\"dataframe\">\n",
       "  <thead>\n",
       "    <tr style=\"text-align: right;\">\n",
       "      <th></th>\n",
       "      <th>user</th>\n",
       "      <th>item</th>\n",
       "      <th>label</th>\n",
       "      <th>reviews</th>\n",
       "      <th>sentiment_score</th>\n",
       "    </tr>\n",
       "  </thead>\n",
       "  <tbody>\n",
       "    <tr>\n",
       "      <th>0</th>\n",
       "      <td>1</td>\n",
       "      <td>1</td>\n",
       "      <td>5.0</td>\n",
       "      <td>Our experience at Rancho Valencia was absolute...</td>\n",
       "      <td>0.589286</td>\n",
       "    </tr>\n",
       "    <tr>\n",
       "      <th>1</th>\n",
       "      <td>2</td>\n",
       "      <td>1</td>\n",
       "      <td>5.0</td>\n",
       "      <td>Amazing place. Everyone was extremely warm and...</td>\n",
       "      <td>0.375000</td>\n",
       "    </tr>\n",
       "    <tr>\n",
       "      <th>2</th>\n",
       "      <td>3</td>\n",
       "      <td>1</td>\n",
       "      <td>5.0</td>\n",
       "      <td>We booked a  night stay at Rancho Valencia to ...</td>\n",
       "      <td>0.488889</td>\n",
       "    </tr>\n",
       "    <tr>\n",
       "      <th>3</th>\n",
       "      <td>4</td>\n",
       "      <td>2</td>\n",
       "      <td>2.0</td>\n",
       "      <td>Currently in bed writing this for the past hr ...</td>\n",
       "      <td>-0.125000</td>\n",
       "    </tr>\n",
       "  </tbody>\n",
       "</table>\n",
       "</div>"
      ],
      "text/plain": [
       "   user  item  label                                            reviews  \\\n",
       "0     1     1    5.0  Our experience at Rancho Valencia was absolute...   \n",
       "1     2     1    5.0  Amazing place. Everyone was extremely warm and...   \n",
       "2     3     1    5.0  We booked a  night stay at Rancho Valencia to ...   \n",
       "3     4     2    2.0  Currently in bed writing this for the past hr ...   \n",
       "\n",
       "   sentiment_score  \n",
       "0         0.589286  \n",
       "1         0.375000  \n",
       "2         0.488889  \n",
       "3        -0.125000  "
      ]
     },
     "execution_count": 11,
     "metadata": {},
     "output_type": "execute_result"
    }
   ],
   "source": [
    "df1 = pd.read_csv('datasets/preparation_of_datasets/hotel/Preprocessed_Hotel_Reviews_dataset.csv')\n",
    "\n",
    "sentiment_scores = get_senti_list(df1)\n",
    "df1['sentiment_score'] = sentiment_scores\n",
    "\n",
    "df1.head(4)"
   ]
  },
  {
   "cell_type": "code",
   "execution_count": 13,
   "id": "c7de0890",
   "metadata": {},
   "outputs": [],
   "source": [
    "df1.to_csv('datasets/preparation_of_datasets/Hotel/hotel_bert_emb_pca16_senti.csv', index=False)"
   ]
  },
  {
   "cell_type": "code",
   "execution_count": 5,
   "id": "bf006d63",
   "metadata": {},
   "outputs": [
    {
     "data": {
      "text/html": [
       "<div>\n",
       "<style scoped>\n",
       "    .dataframe tbody tr th:only-of-type {\n",
       "        vertical-align: middle;\n",
       "    }\n",
       "\n",
       "    .dataframe tbody tr th {\n",
       "        vertical-align: top;\n",
       "    }\n",
       "\n",
       "    .dataframe thead th {\n",
       "        text-align: right;\n",
       "    }\n",
       "</style>\n",
       "<table border=\"1\" class=\"dataframe\">\n",
       "  <thead>\n",
       "    <tr style=\"text-align: right;\">\n",
       "      <th></th>\n",
       "      <th>user</th>\n",
       "      <th>item</th>\n",
       "      <th>label</th>\n",
       "      <th>reviews</th>\n",
       "      <th>sentiment_score</th>\n",
       "    </tr>\n",
       "  </thead>\n",
       "  <tbody>\n",
       "    <tr>\n",
       "      <th>0</th>\n",
       "      <td>1</td>\n",
       "      <td>1</td>\n",
       "      <td>5</td>\n",
       "      <td>It's hard to believe \"Memory of Trees\" came ou...</td>\n",
       "      <td>0.186515</td>\n",
       "    </tr>\n",
       "    <tr>\n",
       "      <th>1</th>\n",
       "      <td>2</td>\n",
       "      <td>1</td>\n",
       "      <td>5</td>\n",
       "      <td>A clasically-styled and introverted album, Mem...</td>\n",
       "      <td>0.251479</td>\n",
       "    </tr>\n",
       "    <tr>\n",
       "      <th>2</th>\n",
       "      <td>3</td>\n",
       "      <td>1</td>\n",
       "      <td>5</td>\n",
       "      <td>I never thought Enya would reach the sublime h...</td>\n",
       "      <td>0.343074</td>\n",
       "    </tr>\n",
       "    <tr>\n",
       "      <th>3</th>\n",
       "      <td>4</td>\n",
       "      <td>1</td>\n",
       "      <td>5</td>\n",
       "      <td>This is the third review of an irish album I w...</td>\n",
       "      <td>0.463788</td>\n",
       "    </tr>\n",
       "  </tbody>\n",
       "</table>\n",
       "</div>"
      ],
      "text/plain": [
       "   user  item  label                                            reviews  \\\n",
       "0     1     1      5  It's hard to believe \"Memory of Trees\" came ou...   \n",
       "1     2     1      5  A clasically-styled and introverted album, Mem...   \n",
       "2     3     1      5  I never thought Enya would reach the sublime h...   \n",
       "3     4     1      5  This is the third review of an irish album I w...   \n",
       "\n",
       "   sentiment_score  \n",
       "0         0.186515  \n",
       "1         0.251479  \n",
       "2         0.343074  \n",
       "3         0.463788  "
      ]
     },
     "execution_count": 5,
     "metadata": {},
     "output_type": "execute_result"
    }
   ],
   "source": [
    "df2 = pd.read_csv('datasets/preparation_of_datasets/Amazon_Music/Preprocessed_Amazon_Music_dataset.csv')\n",
    "\n",
    "sentiment_scores = get_senti_list(df2)\n",
    "df2['sentiment_score'] = sentiment_scores\n",
    "\n",
    "df2.head(4)"
   ]
  },
  {
   "cell_type": "code",
   "execution_count": 7,
   "id": "487fe93b",
   "metadata": {},
   "outputs": [
    {
     "name": "stdout",
     "output_type": "stream",
     "text": [
      "Correlation and p-value of sentiment scores and ratings of reviews: \n",
      "\n",
      "(0.3510618881887875, 0.0)\n"
     ]
    }
   ],
   "source": [
    "print(\"Correlation and p-value of sentiment scores and ratings of reviews: \\n\")\n",
    "print(correlation_between_variables(df2['sentiment_score'], df2['label']))"
   ]
  },
  {
   "cell_type": "code",
   "execution_count": 9,
   "id": "c983e6f3",
   "metadata": {},
   "outputs": [
    {
     "data": {
      "text/plain": [
       "([<matplotlib.axis.XTick at 0x1d55a3c8988>,\n",
       "  <matplotlib.axis.XTick at 0x1d55a3c5848>,\n",
       "  <matplotlib.axis.XTick at 0x1d55a3c8c88>,\n",
       "  <matplotlib.axis.XTick at 0x1d55a37fb88>,\n",
       "  <matplotlib.axis.XTick at 0x1d55a37ea48>],\n",
       " [Text(0, 0, ''),\n",
       "  Text(0, 0, ''),\n",
       "  Text(0, 0, ''),\n",
       "  Text(0, 0, ''),\n",
       "  Text(0, 0, '')])"
      ]
     },
     "execution_count": 9,
     "metadata": {},
     "output_type": "execute_result"
    },
    {
     "data": {
      "image/png": "[encoded data removed]",
      "text/plain": [
       "<Figure size 432x288 with 1 Axes>"
      ]
     },
     "metadata": {
      "needs_background": "light"
     },
     "output_type": "display_data"
    }
   ],
   "source": [
    "plt.scatter(df2[\"label\"], df2[\"sentiment_score\"])\n",
    "plt.xticks(np.unique(df2[\"label\"]))"
   ]
  },
  {
   "cell_type": "code",
   "execution_count": 10,
   "id": "87d16ec2",
   "metadata": {},
   "outputs": [],
   "source": [
    "df2.to_csv('datasets/preparation_of_datasets/Amazon_Music/Preprocessed_Amazon_Music_dataset.csv', index=False)"
   ]
  },
  {
   "cell_type": "code",
   "execution_count": null,
   "id": "358d9da8",
   "metadata": {},
   "outputs": [],
   "source": []
  },
  {
   "cell_type": "code",
   "execution_count": 24,
   "id": "9f1e9383",
   "metadata": {},
   "outputs": [],
   "source": [
    "df3 = pd.read_csv('datasets/preparation_of_datasets/Amazon_Video_Games/Preprocessed_Amazon_Video_Games.csv')\n",
    "\n",
    "# sentiment_scores = get_senti_list(df3)\n",
    "# df3['sentiment_score'] = sentiment_scores\n",
    "\n",
    "# df3.head(4)\n",
    "\n",
    "df3[\"sentiment_score\"] = df3[\"reviews\"].apply(lambda x: get_sentiment(x))"
   ]
  },
  {
   "cell_type": "code",
   "execution_count": 25,
   "id": "e094e6dc",
   "metadata": {},
   "outputs": [
    {
     "data": {
      "text/html": [
       "<div>\n",
       "<style scoped>\n",
       "    .dataframe tbody tr th:only-of-type {\n",
       "        vertical-align: middle;\n",
       "    }\n",
       "\n",
       "    .dataframe tbody tr th {\n",
       "        vertical-align: top;\n",
       "    }\n",
       "\n",
       "    .dataframe thead th {\n",
       "        text-align: right;\n",
       "    }\n",
       "</style>\n",
       "<table border=\"1\" class=\"dataframe\">\n",
       "  <thead>\n",
       "    <tr style=\"text-align: right;\">\n",
       "      <th></th>\n",
       "      <th>user</th>\n",
       "      <th>item</th>\n",
       "      <th>label</th>\n",
       "      <th>reviews</th>\n",
       "      <th>sentiment_score</th>\n",
       "    </tr>\n",
       "  </thead>\n",
       "  <tbody>\n",
       "    <tr>\n",
       "      <th>0</th>\n",
       "      <td>1</td>\n",
       "      <td>1</td>\n",
       "      <td>1</td>\n",
       "      <td>Installing the game was a struggle (because of...</td>\n",
       "      <td>-0.000189</td>\n",
       "    </tr>\n",
       "    <tr>\n",
       "      <th>1</th>\n",
       "      <td>2</td>\n",
       "      <td>1</td>\n",
       "      <td>4</td>\n",
       "      <td>If you like rally cars get this game you will ...</td>\n",
       "      <td>0.111111</td>\n",
       "    </tr>\n",
       "    <tr>\n",
       "      <th>2</th>\n",
       "      <td>3</td>\n",
       "      <td>1</td>\n",
       "      <td>1</td>\n",
       "      <td>st shipment received a book instead of the gam...</td>\n",
       "      <td>-0.170833</td>\n",
       "    </tr>\n",
       "    <tr>\n",
       "      <th>3</th>\n",
       "      <td>4</td>\n",
       "      <td>1</td>\n",
       "      <td>3</td>\n",
       "      <td>I got this version instead of the PS version, ...</td>\n",
       "      <td>0.007612</td>\n",
       "    </tr>\n",
       "    <tr>\n",
       "      <th>4</th>\n",
       "      <td>5</td>\n",
       "      <td>1</td>\n",
       "      <td>4</td>\n",
       "      <td>I had Dirt  on Xbox  and it was an okay game. ...</td>\n",
       "      <td>0.190795</td>\n",
       "    </tr>\n",
       "    <tr>\n",
       "      <th>...</th>\n",
       "      <td>...</td>\n",
       "      <td>...</td>\n",
       "      <td>...</td>\n",
       "      <td>...</td>\n",
       "      <td>...</td>\n",
       "    </tr>\n",
       "    <tr>\n",
       "      <th>231731</th>\n",
       "      <td>16197</td>\n",
       "      <td>10672</td>\n",
       "      <td>5</td>\n",
       "      <td>Funny people on here are rating sellers that a...</td>\n",
       "      <td>0.408333</td>\n",
       "    </tr>\n",
       "    <tr>\n",
       "      <th>231732</th>\n",
       "      <td>10698</td>\n",
       "      <td>10672</td>\n",
       "      <td>1</td>\n",
       "      <td>All this is is the Deluxe GB Wii U with Mario ...</td>\n",
       "      <td>0.023214</td>\n",
       "    </tr>\n",
       "    <tr>\n",
       "      <th>231733</th>\n",
       "      <td>21854</td>\n",
       "      <td>10672</td>\n",
       "      <td>1</td>\n",
       "      <td>The package should have more red on it and sho...</td>\n",
       "      <td>0.143750</td>\n",
       "    </tr>\n",
       "    <tr>\n",
       "      <th>231734</th>\n",
       "      <td>22652</td>\n",
       "      <td>10672</td>\n",
       "      <td>1</td>\n",
       "      <td>Can get this at Newegg for $. and the packagin...</td>\n",
       "      <td>0.000000</td>\n",
       "    </tr>\n",
       "    <tr>\n",
       "      <th>231735</th>\n",
       "      <td>24273</td>\n",
       "      <td>10672</td>\n",
       "      <td>1</td>\n",
       "      <td>This is not real, you can go to ANY retail sto...</td>\n",
       "      <td>0.107015</td>\n",
       "    </tr>\n",
       "  </tbody>\n",
       "</table>\n",
       "<p>231736 rows × 5 columns</p>\n",
       "</div>"
      ],
      "text/plain": [
       "         user   item  label  \\\n",
       "0           1      1      1   \n",
       "1           2      1      4   \n",
       "2           3      1      1   \n",
       "3           4      1      3   \n",
       "4           5      1      4   \n",
       "...       ...    ...    ...   \n",
       "231731  16197  10672      5   \n",
       "231732  10698  10672      1   \n",
       "231733  21854  10672      1   \n",
       "231734  22652  10672      1   \n",
       "231735  24273  10672      1   \n",
       "\n",
       "                                                  reviews  sentiment_score  \n",
       "0       Installing the game was a struggle (because of...        -0.000189  \n",
       "1       If you like rally cars get this game you will ...         0.111111  \n",
       "2       st shipment received a book instead of the gam...        -0.170833  \n",
       "3       I got this version instead of the PS version, ...         0.007612  \n",
       "4       I had Dirt  on Xbox  and it was an okay game. ...         0.190795  \n",
       "...                                                   ...              ...  \n",
       "231731  Funny people on here are rating sellers that a...         0.408333  \n",
       "231732  All this is is the Deluxe GB Wii U with Mario ...         0.023214  \n",
       "231733  The package should have more red on it and sho...         0.143750  \n",
       "231734  Can get this at Newegg for $. and the packagin...         0.000000  \n",
       "231735  This is not real, you can go to ANY retail sto...         0.107015  \n",
       "\n",
       "[231736 rows x 5 columns]"
      ]
     },
     "execution_count": 25,
     "metadata": {},
     "output_type": "execute_result"
    }
   ],
   "source": [
    "df3"
   ]
  },
  {
   "cell_type": "code",
   "execution_count": 26,
   "id": "0ffc4f73",
   "metadata": {},
   "outputs": [],
   "source": [
    "df3.to_csv('datasets/preparation_of_datasets/Amazon_Video_Games/Preprocessed_Amazon_Video_Games.csv', index=False)"
   ]
  },
  {
   "cell_type": "code",
   "execution_count": null,
   "id": "a043c4fb",
   "metadata": {},
   "outputs": [],
   "source": []
  }
 ],
 "metadata": {
  "kernelspec": {
   "display_name": "Python 3 (ipykernel)",
   "language": "python",
   "name": "python3"
  },
  "language_info": {
   "codemirror_mode": {
    "name": "ipython",
    "version": 3
   },
   "file_extension": ".py",
   "mimetype": "text/x-python",
   "name": "python",
   "nbconvert_exporter": "python",
   "pygments_lexer": "ipython3",
   "version": "3.7.11"
  }
 },
 "nbformat": 4,
 "nbformat_minor": 5
}
